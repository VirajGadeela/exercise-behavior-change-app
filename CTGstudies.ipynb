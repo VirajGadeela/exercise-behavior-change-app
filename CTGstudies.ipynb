{
  "nbformat": 4,
  "nbformat_minor": 0,
  "metadata": {
    "colab": {
      "provenance": []
    },
    "kernelspec": {
      "name": "python3",
      "display_name": "Python 3"
    },
    "language_info": {
      "name": "python"
    }
  },
  "cells": [
    {
      "cell_type": "code",
      "source": [
        "file_paths = ['CAD and exercise.csv','CAD and exercise1.csv', 'CAD and exercise2.csv', 'CTG Alzeimers disease and exercise.csv', 'CTG Alzheimer disease and physical activity.csv', 'CTG Alzheimer disease.csv', 'CTG CAD and phycial activity.csv','CTG Cardiac and exercise.csv','CTG Cardio and exercise.csv','CTG Cardio and physical activity.csv', 'CTG Cardiovascular disease and exercise.csv', 'CTG Cardiovascular disease and physical activity.csv','CTG Chronic kidney disease and exercise.csv','CTG Chronic kidney disease and physical activity.csv','CTG Diabetes and exercise.csv','CTG Diabetes and physical activity.csv','CTG Diabetes mellitus and exercise.csv','CTG Diabetes mellitus type 2 and exercise.csv','CTG Diabetes mellitus type 2 and physical activity.csv', 'CTG Kneeosteoarthritis and exercise.csv','CTG Kneeosteoarthritis and physical activity.csv','CTG Obesity and exercise.csv','CTG Obesity and physical activity.csv','CTG Osteoarthritis and exercise.csv','CTG Osteoarthritis and physical activity.csv','CTG PAD and exercise 1.csv','CTG PAD and exercise.csv','CTG PAD and physical activity.csv','CTG PAD and physical activity1.csv','CTG Physical activity and CAD.csv','CTG heart and exercise.csv','CTG stroke and exercise.csv','CTG stroke and exercise1.csv','CTG stroke and physical activity.csv','CTG stroke and physical activity1.csv','CTG studies diabetes and physical activity.csv']"
      ],
      "metadata": {
        "id": "0wnE26IFXNV9"
      },
      "execution_count": 139,
      "outputs": []
    },
    {
      "cell_type": "code",
      "source": [
        "# Load each file into a dataframe and add it to the list\n",
        "for file in file_paths:\n",
        "    data = pd.read_csv(file)\n",
        "    dataframes.append(data)"
      ],
      "metadata": {
        "id": "7ZqqHbGVXaws"
      },
      "execution_count": 140,
      "outputs": []
    },
    {
      "cell_type": "code",
      "source": [
        "# Merge the dataframes into a single dataframe\n",
        "merged_data = pd.concat(dataframes, ignore_index=True)"
      ],
      "metadata": {
        "id": "GzVRX6QyXcwg"
      },
      "execution_count": 141,
      "outputs": []
    },
    {
      "cell_type": "code",
      "source": [
        "merged_data.info()"
      ],
      "metadata": {
        "colab": {
          "base_uri": "https://localhost:8080/"
        },
        "id": "r756MbeqXecF",
        "outputId": "3ca8ae4e-6723-4ed5-dc7d-b2ca6c59c710"
      },
      "execution_count": 142,
      "outputs": [
        {
          "output_type": "stream",
          "name": "stdout",
          "text": [
            "<class 'pandas.core.frame.DataFrame'>\n",
            "RangeIndex: 2262 entries, 0 to 2261\n",
            "Data columns (total 37 columns):\n",
            " #   Column                      Non-Null Count  Dtype  \n",
            "---  ------                      --------------  -----  \n",
            " 0   NCT Number                  2160 non-null   object \n",
            " 1   Study Title                 2160 non-null   object \n",
            " 2   Study URL                   2160 non-null   object \n",
            " 3   Acronym                     728 non-null    object \n",
            " 4   Study Status                2160 non-null   object \n",
            " 5   Brief Summary               2160 non-null   object \n",
            " 6   Study Results               2160 non-null   object \n",
            " 7   Conditions                  2160 non-null   object \n",
            " 8   Interventions               2160 non-null   object \n",
            " 9   Primary Outcome Measures    2160 non-null   object \n",
            " 10  Secondary Outcome Measures  1808 non-null   object \n",
            " 11  Other Outcome Measures      432 non-null    object \n",
            " 12  Sponsor                     2160 non-null   object \n",
            " 13  Collaborators               1202 non-null   object \n",
            " 14  Sex                         2154 non-null   object \n",
            " 15  Age                         2160 non-null   object \n",
            " 16  Phases                      306 non-null    object \n",
            " 17  Enrollment                  2160 non-null   float64\n",
            " 18  Funder Type                 2160 non-null   object \n",
            " 19  Study Type                  2160 non-null   object \n",
            " 20  Study Design                2160 non-null   object \n",
            " 21  Other IDs                   2160 non-null   object \n",
            " 22  Start Date                  2160 non-null   object \n",
            " 23  Primary Completion Date     2160 non-null   object \n",
            " 24  Completion Date             2160 non-null   object \n",
            " 25  First Posted                2160 non-null   object \n",
            " 26  Results First Posted        1222 non-null   object \n",
            " 27  Last Update Posted          2160 non-null   object \n",
            " 28  Locations                   2010 non-null   object \n",
            " 29  Study Documents             2160 non-null   object \n",
            " 30  Total number of studies     102 non-null    object \n",
            " 31  1158                        100 non-null    object \n",
            " 32  Unnamed: 2                  0 non-null      float64\n",
            " 33  Unnamed: 3                  0 non-null      float64\n",
            " 34  Type Intervention           22 non-null     object \n",
            " 35  Unnamed: 5                  22 non-null     object \n",
            " 36  Total number of patients    20 non-null     float64\n",
            "dtypes: float64(4), object(33)\n",
            "memory usage: 654.0+ KB\n"
          ]
        }
      ]
    },
    {
      "cell_type": "code",
      "source": [
        "merged_data.isnull().sum()\n"
      ],
      "metadata": {
        "colab": {
          "base_uri": "https://localhost:8080/"
        },
        "id": "0HBiHFbJXf-J",
        "outputId": "2df51721-8a95-4ccb-978a-58b4b2d4270e"
      },
      "execution_count": 144,
      "outputs": [
        {
          "output_type": "execute_result",
          "data": {
            "text/plain": [
              "NCT Number                     102\n",
              "Study Title                    102\n",
              "Study URL                      102\n",
              "Acronym                       1534\n",
              "Study Status                   102\n",
              "Brief Summary                  102\n",
              "Study Results                  102\n",
              "Conditions                     102\n",
              "Interventions                  102\n",
              "Primary Outcome Measures       102\n",
              "Secondary Outcome Measures     454\n",
              "Other Outcome Measures        1830\n",
              "Sponsor                        102\n",
              "Collaborators                 1060\n",
              "Sex                            108\n",
              "Age                            102\n",
              "Phases                        1956\n",
              "Enrollment                     102\n",
              "Funder Type                    102\n",
              "Study Type                     102\n",
              "Study Design                   102\n",
              "Other IDs                      102\n",
              "Start Date                     102\n",
              "Primary Completion Date        102\n",
              "Completion Date                102\n",
              "First Posted                   102\n",
              "Results First Posted          1040\n",
              "Last Update Posted             102\n",
              "Locations                      252\n",
              "Study Documents                102\n",
              "Total number of studies       2160\n",
              "1158                          2162\n",
              "Unnamed: 2                    2262\n",
              "Unnamed: 3                    2262\n",
              "Type Intervention             2240\n",
              "Unnamed: 5                    2240\n",
              "Total number of patients      2242\n",
              "dtype: int64"
            ]
          },
          "metadata": {},
          "execution_count": 144
        }
      ]
    },
    {
      "cell_type": "code",
      "source": [
        "relevant_columns = ['Conditions', 'Interventions', 'Primary Outcome Measures', 'Secondary Outcome Measures','Other Outcome Measures','Sex', 'Age']"
      ],
      "metadata": {
        "id": "9UfbRQCxXoKP"
      },
      "execution_count": 189,
      "outputs": []
    },
    {
      "cell_type": "code",
      "source": [
        "merged_data = merged_data.dropna(subset=relevant_columns)"
      ],
      "metadata": {
        "id": "CNMQJ-z2Xr-L"
      },
      "execution_count": 190,
      "outputs": []
    },
    {
      "cell_type": "code",
      "source": [
        "relevant_data = merged_data[relevant_columns]"
      ],
      "metadata": {
        "id": "nhK5D-QOYVGZ"
      },
      "execution_count": 191,
      "outputs": []
    },
    {
      "cell_type": "code",
      "source": [
        "from sklearn.cluster import KMeans\n",
        "from sklearn.preprocessing import StandardScaler"
      ],
      "metadata": {
        "id": "-y2EFIFlYePn"
      },
      "execution_count": 201,
      "outputs": []
    },
    {
      "cell_type": "code",
      "source": [
        "# Select categorical variables for encoding\n",
        "categorical_features = ['Conditions', 'Interventions', 'Primary Outcome Measures', 'Secondary Outcome Measures','Other Outcome Measures','Sex', 'Age']\n",
        "\n",
        "# Encode categorical variables using One-Hot Encoding\n",
        "encoder = OneHotEncoder()\n",
        "encoded_features = encoder.fit_transform(relevant_data[categorical_features])\n",
        "\n",
        "# Create a dataframe with encoded categorical features\n",
        "encoded_df = pd.DataFrame(encoded_features.toarray(), columns=encoder.get_feature_names_out(categorical_features))\n",
        "\n",
        "\n",
        "# Combine encoded categorical and normalized numerical features into a single dataframe\n",
        "final_data = pd.concat([encoded_df], axis=1)\n"
      ],
      "metadata": {
        "id": "yfXhOaqElKqC"
      },
      "execution_count": 210,
      "outputs": []
    },
    {
      "cell_type": "code",
      "source": [
        "# Import libraries\n",
        "from sklearn.cluster import KMeans\n",
        "from sklearn.cluster import DBSCAN\n",
        "from sklearn.cluster import AgglomerativeClustering\n",
        "\n",
        "# K-Means Clustering\n",
        "kmeans = KMeans(n_clusters=3, random_state=0)\n",
        "kmeans_labels = kmeans.fit_predict(final_data)\n",
        "\n",
        "# DBSCAN Clustering\n",
        "dbscan = DBSCAN(eps=0.5, min_samples=5)\n",
        "dbscan_labels = dbscan.fit_predict(final_data)\n",
        "\n",
        "# Hierarchical Clustering (Agglomerative Clustering)\n",
        "agg_clustering = AgglomerativeClustering(n_clusters=3)\n",
        "agg_labels = agg_clustering.fit_predict(final_data)\n",
        "\n",
        "# Add cluster labels to the final dataset for analysis\n",
        "final_data['KMeans_Cluster'] = kmeans_labels\n",
        "final_data['DBSCAN_Cluster'] = dbscan_labels\n",
        "final_data['Agg_Cluster'] = agg_labels\n"
      ],
      "metadata": {
        "colab": {
          "base_uri": "https://localhost:8080/"
        },
        "id": "QcOo6gCnn6fN",
        "outputId": "9c8110e6-a43f-440e-c7e2-68046e6d2d4b"
      },
      "execution_count": 212,
      "outputs": [
        {
          "output_type": "stream",
          "name": "stderr",
          "text": [
            "/usr/local/lib/python3.10/dist-packages/sklearn/cluster/_kmeans.py:870: FutureWarning: The default value of `n_init` will change from 10 to 'auto' in 1.4. Set the value of `n_init` explicitly to suppress the warning\n",
            "  warnings.warn(\n"
          ]
        }
      ]
    },
    {
      "cell_type": "code",
      "source": [
        "print(final_data.columns)"
      ],
      "metadata": {
        "colab": {
          "base_uri": "https://localhost:8080/"
        },
        "id": "khCpT9c3pBqK",
        "outputId": "f666b1dc-fc93-426b-9918-83d95032db18"
      },
      "execution_count": 204,
      "outputs": [
        {
          "output_type": "stream",
          "name": "stdout",
          "text": [
            "Index(['Conditions_Adolescent Obesity|Diabetes Mellitus',\n",
            "       'Conditions_Alzheimer Disease|Dementia|Cognitive Decline|Cognitive Impairment|Dementia, Alzheimer Type',\n",
            "       'Conditions_Arthroplasty|Replacement|Knee Osteoarthritis',\n",
            "       'Conditions_At Risk of Type 2 Diabetes Mellitus',\n",
            "       'Conditions_Cardiac Arrest|Post Traumatic Stress Syndrome',\n",
            "       'Conditions_Cardiac Rehabilitation|Physical Activity|Fruit and Vegetable Intake',\n",
            "       'Conditions_Cardiovascular Diseases',\n",
            "       'Conditions_Cardiovascular Diseases|Cardiovascular Risk Factor',\n",
            "       'Conditions_Cardiovascular Risk Factor|Health Behavior|Physical Activity|Self Efficacy|Vascular Stiffness',\n",
            "       'Conditions_Cardiovascular Risk Factor|Stress|Self Efficacy|Depressive Symptoms|Health Behavior',\n",
            "       ...\n",
            "       'Sex_MALE', 'Age_ADULT', 'Age_ADULT, OLDER_ADULT', 'Age_CHILD',\n",
            "       'Age_CHILD, ADULT', 'Age_CHILD, ADULT, OLDER_ADULT', 'Age_OLDER_ADULT',\n",
            "       'KMeans_Cluster', 'DBSCAN_Cluster', 'Agg_Cluster'],\n",
            "      dtype='object', length=319)\n"
          ]
        }
      ]
    },
    {
      "cell_type": "code",
      "source": [],
      "metadata": {
        "id": "hOyBF7mHs42Z"
      },
      "execution_count": null,
      "outputs": []
    },
    {
      "cell_type": "code",
      "source": [],
      "metadata": {
        "id": "KowItuH2s4-h"
      },
      "execution_count": null,
      "outputs": []
    },
    {
      "cell_type": "code",
      "source": [
        "y, monday\n"
      ],
      "metadata": {
        "id": "_KWP2LEdw1V1"
      },
      "execution_count": null,
      "outputs": []
    },
    {
      "cell_type": "code",
      "source": [
        "# Import necessary libraries\n",
        "import pandas as pd\n",
        "\n",
        "# Step 1: Enter demographic information\n",
        "age = input(\"Enter your age: \")\n",
        "sex = input(\"Enter your sex: \")\n",
        "race = input(\"Enter your race: \")\n",
        "gender = input(\"Enter your gender: \")\n",
        "comorbidities = input(\"Enter any comorbidities (separated by commas if multiple): \").split(',')\n",
        "\n",
        "# Step 2: Confirm weekly exercise goal\n",
        "weekly_goal = input(\"Confirm your weekly exercise goal (e.g., 150 mins MVPA, plus strength training): \")\n",
        "\n",
        "# Step 3: Preference\n",
        "start_preference = input(\"Do you prefer a gradual start or an immediate goal? \")\n",
        "exercise_variety = input(\"Do you prefer new types of exercise every day or consistency? \")\n",
        "\n",
        "# Step 4: Location of exercise\n",
        "exercise_location = input(\"Where do you plan to exercise (YMCA, Planet Fitness, other gym, home)? \")\n",
        "\n",
        "# Step 5: Select days and times of exercise\n",
        "days_of_exercise = input(\"Select the days of the week you plan to exercise (separated by commas if multiple): \").split(',')\n",
        "times_of_exercise = input(\"Select the times of the day you plan to exercise (separated by commas if multiple): \").split(',')\n",
        "\n",
        "# Step 6: Optional preference of exercise machine\n",
        "exercise_machine_preference = input(\"Enter your preference of exercise machine (e.g., treadmill, elliptical): \")\n",
        "\n",
        "# Step 7: Coordinate exercise buddy\n",
        "exercise_buddy = input(\"Do you want to coordinate/have a potential exercise buddy? \")\n",
        "\n",
        "# Step 8: Create appearance of virtual coach\n",
        "# This step involves more complex graphics and is beyond the scope of this code snippet\n",
        "\n",
        "# Displaying entered information\n",
        "print(\"\\nEntered information:\")\n",
        "print(f\"Age: {age}\")\n",
        "print(f\"Sex: {sex}\")\n",
        "print(f\"Race: {race}\")\n",
        "print(f\"Gender: {gender}\")\n",
        "print(f\"Comorbidities: {comorbidities}\")\n",
        "print(f\"Weekly exercise goal: {weekly_goal}\")\n",
        "print(f\"Start preference: {start_preference}\")\n",
        "print(f\"Exercise variety preference: {exercise_variety}\")\n",
        "print(f\"Exercise location: {exercise_location}\")\n",
        "print(f\"Days of exercise: {days_of_exercise}\")\n",
        "print(f\"Times of exercise: {times_of_exercise}\")\n",
        "print(f\"Exercise machine preference: {exercise_machine_preference}\")\n",
        "print(f\"Exercise buddy coordination: {exercise_buddy}\")\n"
      ],
      "metadata": {
        "colab": {
          "base_uri": "https://localhost:8080/"
        },
        "id": "wKWVdzjNs5DR",
        "outputId": "1386b936-bca4-426a-8e75-f49ae573309c"
      },
      "execution_count": 219,
      "outputs": [
        {
          "output_type": "stream",
          "name": "stdout",
          "text": [
            "Enter your age: 26\n",
            "Enter your sex: male\n",
            "Enter your race: American\n",
            "Enter your gender: male\n",
            "Enter any comorbidities (separated by commas if multiple): hypertension\n",
            "Confirm your weekly exercise goal (e.g., 150 mins MVPA, plus strength training):  strength training\n",
            "Do you prefer a gradual start or an immediate goal? immediate goal\n",
            "Do you prefer new types of exercise every day or consistency? every day\n",
            "Where do you plan to exercise (YMCA, Planet Fitness, other gym, home)? home\n",
            "Select the days of the week you plan to exercise (separated by commas if multiple): sunday, monday\n",
            "Select the times of the day you plan to exercise (separated by commas if multiple): 2\n",
            "Enter your preference of exercise machine (e.g., treadmill, elliptical): treadmill\n",
            "Do you want to coordinate/have a potential exercise buddy? yes\n",
            "\n",
            "Entered information:\n",
            "Age: 26\n",
            "Sex: male\n",
            "Race: American\n",
            "Gender: male\n",
            "Comorbidities: ['hypertension']\n",
            "Weekly exercise goal:  strength training\n",
            "Start preference: immediate goal\n",
            "Exercise variety preference: every day\n",
            "Exercise location: home\n",
            "Days of exercise: ['sunday', ' monday']\n",
            "Times of exercise: ['2']\n",
            "Exercise machine preference: treadmill\n",
            "Exercise buddy coordination: yes\n"
          ]
        }
      ]
    },
    {
      "cell_type": "code",
      "source": [
        "import datetime\n",
        "import time\n",
        "\n",
        "# Step 1: Generate cardio and strength training exercises\n",
        "# This step would require a database of exercises and routines, and is beyond the scope of this code snippet\n",
        "\n",
        "# Step 2: User receives notification\n",
        "notification_time = datetime.datetime.now() + datetime.timedelta(minutes=15)  # Notification 15 minutes before exercise session\n",
        "print(f\"Notification: Your exercise session will start at {notification_time.strftime('%H:%M')}.\")\n",
        "\n",
        "# Step 3: User starts recording exercise time\n",
        "input(\"Press 'Enter' to begin recording exercise time.\")\n",
        "\n",
        "# Simulate exercise time recording\n",
        "print(\"Exercise session started.\")\n",
        "time.sleep(120)  # Simulating 2 minutes of exercise time\n",
        "\n",
        "# Step 4: User ends exercise session\n",
        "input(\"Press 'Enter' to end exercise session.\")\n",
        "\n",
        "# Simulate exercise session end\n",
        "print(\"Exercise session ended.\")\n",
        "\n",
        "# Step 5: Checkmark or X on types of exercises used\n",
        "exercise_types = ['Cardio', 'Strength Training']  # List of exercise types\n",
        "print(\"Types of exercises:\")\n",
        "for idx, exercise in enumerate(exercise_types):\n",
        "    print(f\"{idx+1}. {exercise}\")\n",
        "\n",
        "user_input = input(\"Enter the numbers of exercises used (separated by commas if multiple): \")\n",
        "used_exercises = [exercise_types[int(i)-1] for i in user_input.split(',')]\n",
        "\n",
        "# Step 6: Did they use another machine or not exercise?\n",
        "if 'Strength Training' in used_exercises:\n",
        "    additional_machine = input(\"Did you use another machine for strength training? (yes/no) \")\n",
        "    if additional_machine.lower() == 'yes':\n",
        "        additional_machine_used = input(\"Enter the name of the additional machine used: \")\n",
        "        print(f\"Additional machine used: {additional_machine_used}\")\n",
        "    else:\n",
        "        print(\"No additional machine used.\")\n",
        "elif 'Cardio' in used_exercises:\n",
        "    # If only cardio was used, we can ask if the user used any other cardio machine\n",
        "    additional_machine = input(\"Did you use another cardio machine? (yes/no) \")\n",
        "    if additional_machine.lower() == 'yes':\n",
        "        additional_machine_used = input(\"Enter the name of the additional cardio machine used: \")\n",
        "        print(f\"Additional cardio machine used: {additional_machine_used}\")\n",
        "    else:\n",
        "        print(\"No additional cardio machine used.\")\n",
        "\n",
        "# Step 7: Give reward if exercise time goal is met (gamification)\n",
        "exercise_time_goal = 150  # Example exercise time goal in minutes\n",
        "exercise_time = int(input(\"Enter the total exercise time (in minutes): \"))\n",
        "if exercise_time >= exercise_time_goal:\n",
        "    print(\"Congratulations! You've met your exercise time goal.\")\n",
        "    # Provide some reward or feedback for achieving the goal\n",
        "else:\n",
        "    print(\"Keep up the good work! You'll reach your goal with consistency.\")\n"
      ],
      "metadata": {
        "colab": {
          "base_uri": "https://localhost:8080/",
          "height": 277
        },
        "id": "NZwb8HRms5GA",
        "outputId": "736d5b5b-2a83-48ef-f7f8-52fc40025fc2"
      },
      "execution_count": 220,
      "outputs": [
        {
          "output_type": "stream",
          "name": "stdout",
          "text": [
            "Notification: Your exercise session will start at 17:02.\n",
            "Press 'Enter' to begin recording exercise time.\n",
            "Exercise session started.\n"
          ]
        },
        {
          "output_type": "error",
          "ename": "KeyboardInterrupt",
          "evalue": "",
          "traceback": [
            "\u001b[0;31m---------------------------------------------------------------------------\u001b[0m",
            "\u001b[0;31mKeyboardInterrupt\u001b[0m                         Traceback (most recent call last)",
            "\u001b[0;32m<ipython-input-220-b77acb067e83>\u001b[0m in \u001b[0;36m<cell line: 16>\u001b[0;34m()\u001b[0m\n\u001b[1;32m     14\u001b[0m \u001b[0;31m# Simulate exercise time recording\u001b[0m\u001b[0;34m\u001b[0m\u001b[0;34m\u001b[0m\u001b[0m\n\u001b[1;32m     15\u001b[0m \u001b[0mprint\u001b[0m\u001b[0;34m(\u001b[0m\u001b[0;34m\"Exercise session started.\"\u001b[0m\u001b[0;34m)\u001b[0m\u001b[0;34m\u001b[0m\u001b[0;34m\u001b[0m\u001b[0m\n\u001b[0;32m---> 16\u001b[0;31m \u001b[0mtime\u001b[0m\u001b[0;34m.\u001b[0m\u001b[0msleep\u001b[0m\u001b[0;34m(\u001b[0m\u001b[0;36m120\u001b[0m\u001b[0;34m)\u001b[0m  \u001b[0;31m# Simulating 2 minutes of exercise time\u001b[0m\u001b[0;34m\u001b[0m\u001b[0;34m\u001b[0m\u001b[0m\n\u001b[0m\u001b[1;32m     17\u001b[0m \u001b[0;34m\u001b[0m\u001b[0m\n\u001b[1;32m     18\u001b[0m \u001b[0;31m# Step 4: User ends exercise session\u001b[0m\u001b[0;34m\u001b[0m\u001b[0;34m\u001b[0m\u001b[0m\n",
            "\u001b[0;31mKeyboardInterrupt\u001b[0m: "
          ]
        }
      ]
    },
    {
      "cell_type": "code",
      "source": [
        "import pandas as pd\n",
        "from sklearn.cluster import KMeans\n",
        "from sklearn.preprocessing import LabelEncoder, OneHotEncoder\n",
        "from sklearn.compose import ColumnTransformer\n",
        "from sklearn.pipeline import Pipeline\n",
        "from sklearn.impute import SimpleImputer\n",
        "import numpy as np\n",
        "\n",
        "# Generate synthetic data for demonstration\n",
        "np.random.seed(0)\n",
        "n_samples = 1000\n",
        "\n",
        "# Demographic information\n",
        "age = np.random.randint(18, 80, size=n_samples)\n",
        "sex = np.random.choice(['Male', 'Female'], size=n_samples)\n",
        "race = np.random.choice(['White', 'Black', 'Asian', 'Hispanic'], size=n_samples)\n",
        "comorbidities = np.random.choice(['Diabetes', 'Hypertension', 'Obesity', 'None'], size=n_samples)\n",
        "\n",
        "# Exercise preferences\n",
        "weekly_goal = np.random.choice(['150 mins MVPA + strength training', '200 mins MVPA + strength training'], size=n_samples)\n",
        "start_preference = np.random.choice(['Gradual start', 'Immediate goal'], size=n_samples)\n",
        "exercise_variety = np.random.choice(['New types of exercise every day', 'Consistency'], size=n_samples)\n",
        "exercise_location = np.random.choice(['YMCA', 'Planet Fitness', 'Other gym', 'Home'], size=n_samples)\n",
        "exercise_buddy = np.random.choice(['Yes', 'No'], size=n_samples)\n",
        "\n",
        "# Create DataFrame\n",
        "data = pd.DataFrame({\n",
        "    'Age': age,\n",
        "    'Sex': sex,\n",
        "    'Race': race,\n",
        "    'Comorbidities': comorbidities,\n",
        "    'Weekly Goal': weekly_goal,\n",
        "    'Start Preference': start_preference,\n",
        "    'Exercise Variety': exercise_variety,\n",
        "    'Exercise Location': exercise_location,\n",
        "    'Exercise Buddy': exercise_buddy\n",
        "})\n",
        "\n",
        "# Preprocessing pipeline\n",
        "# Define columns to encode\n",
        "categorical_cols = ['Sex', 'Race', 'Comorbidities', 'Weekly Goal', 'Start Preference', 'Exercise Variety', 'Exercise Location', 'Exercise Buddy']\n",
        "\n",
        "# Define preprocessing steps\n",
        "preprocessor = ColumnTransformer(\n",
        "    transformers=[\n",
        "        ('cat', OneHotEncoder(handle_unknown='ignore'), categorical_cols)\n",
        "    ])\n",
        "\n",
        "# Define the pipeline\n",
        "pipeline = Pipeline(steps=[('preprocessor', preprocessor)])\n",
        "\n",
        "# Apply preprocessing pipeline\n",
        "data_encoded = pipeline.fit_transform(data)\n",
        "\n",
        "# Perform K-means clustering\n",
        "kmeans = KMeans(n_clusters=3, random_state=0)\n",
        "cluster_labels = kmeans.fit_predict(data_encoded)\n",
        "\n",
        "# Add cluster labels to the DataFrame\n",
        "data['Cluster'] = cluster_labels\n",
        "\n",
        "# Display clusters\n",
        "print(data.groupby('Cluster').mean())\n"
      ],
      "metadata": {
        "colab": {
          "base_uri": "https://localhost:8080/"
        },
        "id": "QwUiK2K7s5JT",
        "outputId": "f33a0f90-c462-4e49-b5ae-ed2726ef46c0"
      },
      "execution_count": 217,
      "outputs": [
        {
          "output_type": "stream",
          "name": "stderr",
          "text": [
            "/usr/local/lib/python3.10/dist-packages/sklearn/cluster/_kmeans.py:870: FutureWarning: The default value of `n_init` will change from 10 to 'auto' in 1.4. Set the value of `n_init` explicitly to suppress the warning\n",
            "  warnings.warn(\n"
          ]
        },
        {
          "output_type": "stream",
          "name": "stdout",
          "text": [
            "               Age\n",
            "Cluster           \n",
            "0        47.493225\n",
            "1        49.734908\n",
            "2        46.772000\n"
          ]
        },
        {
          "output_type": "stream",
          "name": "stderr",
          "text": [
            "<ipython-input-217-13aacb3e7af4>:63: FutureWarning: The default value of numeric_only in DataFrameGroupBy.mean is deprecated. In a future version, numeric_only will default to False. Either specify numeric_only or select only columns which should be valid for the function.\n",
            "  print(data.groupby('Cluster').mean())\n"
          ]
        }
      ]
    },
    {
      "cell_type": "code",
      "source": [],
      "metadata": {
        "id": "GSxHbvlCs5Mf"
      },
      "execution_count": null,
      "outputs": []
    },
    {
      "cell_type": "markdown",
      "source": [],
      "metadata": {
        "id": "Btv0HmAuYtTA"
      }
    }
  ]
}