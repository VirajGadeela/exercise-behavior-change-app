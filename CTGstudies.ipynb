{
  "nbformat": 4,
  "nbformat_minor": 0,
  "metadata": {
    "colab": {
      "provenance": []
    },
    "kernelspec": {
      "name": "python3",
      "display_name": "Python 3"
    },
    "language_info": {
      "name": "python"
    }
  },
  "cells": [
    {
      "cell_type": "code",
      "source": [
        "import pandas as pd\n",
        "from sklearn.model_selection import train_test_split\n",
        "from sklearn.preprocessing import OneHotEncoder, StandardScaler\n",
        "from sklearn.compose import ColumnTransformer\n",
        "from sklearn.pipeline import Pipeline\n",
        "from sklearn.ensemble import RandomForestClassifier\n",
        "from sklearn.metrics import accuracy_score, classification_report\n",
        "from sklearn.cluster import KMeans\n",
        "import matplotlib.pyplot as plt\n",
        "import seaborn as sns"
      ],
      "metadata": {
        "id": "o4xxfHYNAX2g"
      },
      "execution_count": null,
      "outputs": []
    },
    {
      "cell_type": "code",
      "source": [
        "file_paths = ['CAD and exercise.csv','CAD and exercise1.csv', 'CAD and exercise2.csv', 'CTG Alzeimers disease and exercise.csv', 'CTG Alzheimer disease and physical activity.csv', 'CTG Alzheimer disease.csv', 'CTG CAD and phycial activity.csv','CTG Cardiac and exercise.csv','CTG Cardio and exercise.csv','CTG Cardio and physical activity.csv', 'CTG Cardiovascular disease and exercise.csv', 'CTG Cardiovascular disease and physical activity.csv','CTG Chronic kidney disease and exercise.csv','CTG Chronic kidney disease and physical activity.csv','CTG Diabetes and exercise.csv','CTG Diabetes and physical activity.csv','CTG Diabetes mellitus and exercise.csv','CTG Diabetes mellitus type 2 and exercise.csv','CTG Diabetes mellitus type 2 and physical activity.csv', 'CTG Kneeosteoarthritis and exercise.csv','CTG Kneeosteoarthritis and physical activity.csv','CTG Obesity and exercise.csv','CTG Obesity and physical activity.csv','CTG Osteoarthritis and exercise.csv','CTG Osteoarthritis and physical activity.csv','CTG PAD and exercise 1.csv','CTG PAD and exercise.csv','CTG PAD and physical activity.csv','CTG PAD and physical activity1.csv','CTG Physical activity and CAD.csv','CTG heart and exercise.csv','CTG stroke and exercise.csv','CTG stroke and exercise1.csv','CTG stroke and physical activity.csv','CTG stroke and physical activity1.csv','CTG studies diabetes and physical activity.csv']"
      ],
      "metadata": {
        "id": "0wnE26IFXNV9"
      },
      "execution_count": null,
      "outputs": []
    },
    {
      "cell_type": "code",
      "source": [
        "# Load each file into a dataframe and add it to the list\n",
        "dataframes = []\n",
        "for file in file_paths:\n",
        "    data = pd.read_csv(file)\n",
        "    dataframes.append(data)"
      ],
      "metadata": {
        "id": "7ZqqHbGVXaws"
      },
      "execution_count": null,
      "outputs": []
    },
    {
      "cell_type": "code",
      "source": [
        "# Merge the dataframes into a single dataframe\n",
        "merged_data = pd.concat(dataframes, ignore_index=True)"
      ],
      "metadata": {
        "id": "GzVRX6QyXcwg"
      },
      "execution_count": null,
      "outputs": []
    },
    {
      "cell_type": "code",
      "source": [
        "merged_data.info()"
      ],
      "metadata": {
        "colab": {
          "base_uri": "https://localhost:8080/"
        },
        "id": "r756MbeqXecF",
        "outputId": "0626d33c-c387-4836-fc5d-8f3aa9a9c669"
      },
      "execution_count": null,
      "outputs": [
        {
          "output_type": "stream",
          "name": "stdout",
          "text": [
            "<class 'pandas.core.frame.DataFrame'>\n",
            "RangeIndex: 1131 entries, 0 to 1130\n",
            "Data columns (total 37 columns):\n",
            " #   Column                      Non-Null Count  Dtype  \n",
            "---  ------                      --------------  -----  \n",
            " 0   NCT Number                  1080 non-null   object \n",
            " 1   Study Title                 1080 non-null   object \n",
            " 2   Study URL                   1080 non-null   object \n",
            " 3   Acronym                     364 non-null    object \n",
            " 4   Study Status                1080 non-null   object \n",
            " 5   Brief Summary               1080 non-null   object \n",
            " 6   Study Results               1080 non-null   object \n",
            " 7   Conditions                  1080 non-null   object \n",
            " 8   Interventions               1080 non-null   object \n",
            " 9   Primary Outcome Measures    1080 non-null   object \n",
            " 10  Secondary Outcome Measures  904 non-null    object \n",
            " 11  Other Outcome Measures      216 non-null    object \n",
            " 12  Sponsor                     1080 non-null   object \n",
            " 13  Collaborators               601 non-null    object \n",
            " 14  Sex                         1077 non-null   object \n",
            " 15  Age                         1080 non-null   object \n",
            " 16  Phases                      153 non-null    object \n",
            " 17  Enrollment                  1080 non-null   float64\n",
            " 18  Funder Type                 1080 non-null   object \n",
            " 19  Study Type                  1080 non-null   object \n",
            " 20  Study Design                1080 non-null   object \n",
            " 21  Other IDs                   1080 non-null   object \n",
            " 22  Start Date                  1080 non-null   object \n",
            " 23  Primary Completion Date     1080 non-null   object \n",
            " 24  Completion Date             1080 non-null   object \n",
            " 25  First Posted                1080 non-null   object \n",
            " 26  Results First Posted        611 non-null    object \n",
            " 27  Last Update Posted          1080 non-null   object \n",
            " 28  Locations                   1005 non-null   object \n",
            " 29  Study Documents             1080 non-null   object \n",
            " 30  Total number of studies     51 non-null     object \n",
            " 31  1158                        50 non-null     object \n",
            " 32  Unnamed: 2                  0 non-null      float64\n",
            " 33  Unnamed: 3                  0 non-null      float64\n",
            " 34  Type Intervention           11 non-null     object \n",
            " 35  Unnamed: 5                  11 non-null     object \n",
            " 36  Total number of patients    10 non-null     float64\n",
            "dtypes: float64(4), object(33)\n",
            "memory usage: 327.1+ KB\n"
          ]
        }
      ]
    },
    {
      "cell_type": "code",
      "source": [
        "merged_data.isnull().sum()\n"
      ],
      "metadata": {
        "colab": {
          "base_uri": "https://localhost:8080/"
        },
        "id": "0HBiHFbJXf-J",
        "outputId": "0abfc353-5c02-4db5-9952-387be26619e1"
      },
      "execution_count": null,
      "outputs": [
        {
          "output_type": "execute_result",
          "data": {
            "text/plain": [
              "NCT Number                      51\n",
              "Study Title                     51\n",
              "Study URL                       51\n",
              "Acronym                        767\n",
              "Study Status                    51\n",
              "Brief Summary                   51\n",
              "Study Results                   51\n",
              "Conditions                      51\n",
              "Interventions                   51\n",
              "Primary Outcome Measures        51\n",
              "Secondary Outcome Measures     227\n",
              "Other Outcome Measures         915\n",
              "Sponsor                         51\n",
              "Collaborators                  530\n",
              "Sex                             54\n",
              "Age                             51\n",
              "Phases                         978\n",
              "Enrollment                      51\n",
              "Funder Type                     51\n",
              "Study Type                      51\n",
              "Study Design                    51\n",
              "Other IDs                       51\n",
              "Start Date                      51\n",
              "Primary Completion Date         51\n",
              "Completion Date                 51\n",
              "First Posted                    51\n",
              "Results First Posted           520\n",
              "Last Update Posted              51\n",
              "Locations                      126\n",
              "Study Documents                 51\n",
              "Total number of studies       1080\n",
              "1158                          1081\n",
              "Unnamed: 2                    1131\n",
              "Unnamed: 3                    1131\n",
              "Type Intervention             1120\n",
              "Unnamed: 5                    1120\n",
              "Total number of patients      1121\n",
              "dtype: int64"
            ]
          },
          "metadata": {},
          "execution_count": 43
        }
      ]
    },
    {
      "cell_type": "code",
      "source": [
        "# Handling missing values\n",
        "relevant_columns = ['Conditions', 'Interventions', 'Primary Outcome Measures', 'Secondary Outcome Measures', 'Other Outcome Measures', 'Sex', 'Age']\n",
        "merged_data = merged_data.dropna(subset=relevant_columns)"
      ],
      "metadata": {
        "id": "9UfbRQCxXoKP"
      },
      "execution_count": null,
      "outputs": []
    },
    {
      "cell_type": "code",
      "source": [
        "\n",
        "# Selecting relevant data\n",
        "relevant_data = merged_data[relevant_columns]"
      ],
      "metadata": {
        "id": "nhK5D-QOYVGZ"
      },
      "execution_count": null,
      "outputs": []
    },
    {
      "cell_type": "code",
      "source": [
        "# Encoding categorical variables using One-Hot Encoding\n",
        "categorical_features = ['Conditions', 'Interventions', 'Primary Outcome Measures', 'Secondary Outcome Measures', 'Other Outcome Measures', 'Sex', 'Age']\n",
        "encoder = OneHotEncoder()\n",
        "encoded_features = encoder.fit_transform(relevant_data[categorical_features])\n"
      ],
      "metadata": {
        "id": "yfXhOaqElKqC"
      },
      "execution_count": null,
      "outputs": []
    },
    {
      "cell_type": "code",
      "source": [
        "# Creating a dataframe with encoded categorical features\n",
        "encoded_df = pd.DataFrame(encoded_features.toarray(), columns=encoder.get_feature_names_out(categorical_features))"
      ],
      "metadata": {
        "id": "QcOo6gCnn6fN"
      },
      "execution_count": null,
      "outputs": []
    },
    {
      "cell_type": "code",
      "source": [
        "# Combining encoded categorical and normalized numerical features into a single dataframe\n",
        "final_data = pd.concat([encoded_df], axis=1)"
      ],
      "metadata": {
        "id": "Zn8WQOl-A4n_"
      },
      "execution_count": null,
      "outputs": []
    },
    {
      "cell_type": "markdown",
      "source": [],
      "metadata": {
        "id": "1FFCttUVmRM6"
      }
    },
    {
      "cell_type": "code",
      "source": [
        "final_data.info()"
      ],
      "metadata": {
        "colab": {
          "base_uri": "https://localhost:8080/"
        },
        "id": "khCpT9c3pBqK",
        "outputId": "99cf77c2-9d5d-4db2-a1a7-f039b7c29e3d"
      },
      "execution_count": null,
      "outputs": [
        {
          "output_type": "stream",
          "name": "stdout",
          "text": [
            "<class 'pandas.core.frame.DataFrame'>\n",
            "RangeIndex: 195 entries, 0 to 194\n",
            "Columns: 316 entries, Conditions_Adolescent Obesity|Diabetes Mellitus to Age_OLDER_ADULT\n",
            "dtypes: float64(316)\n",
            "memory usage: 481.5 KB\n"
          ]
        }
      ]
    },
    {
      "cell_type": "code",
      "source": [],
      "metadata": {
        "id": "hOyBF7mHs42Z"
      },
      "execution_count": null,
      "outputs": []
    },
    {
      "cell_type": "code",
      "source": [
        "print(final_data.columns)"
      ],
      "metadata": {
        "colab": {
          "base_uri": "https://localhost:8080/"
        },
        "id": "iqJmF13iuIbv",
        "outputId": "ff552ded-858b-48d4-a189-e9d8b0e6e88f"
      },
      "execution_count": null,
      "outputs": [
        {
          "output_type": "stream",
          "name": "stdout",
          "text": [
            "Index(['Conditions_Adolescent Obesity|Diabetes Mellitus',\n",
            "       'Conditions_Alzheimer Disease|Dementia|Cognitive Decline|Cognitive Impairment|Dementia, Alzheimer Type',\n",
            "       'Conditions_Arthroplasty|Replacement|Knee Osteoarthritis',\n",
            "       'Conditions_At Risk of Type 2 Diabetes Mellitus',\n",
            "       'Conditions_Cardiac Arrest|Post Traumatic Stress Syndrome',\n",
            "       'Conditions_Cardiac Rehabilitation|Physical Activity|Fruit and Vegetable Intake',\n",
            "       'Conditions_Cardiovascular Diseases',\n",
            "       'Conditions_Cardiovascular Diseases|Cardiovascular Risk Factor',\n",
            "       'Conditions_Cardiovascular Risk Factor|Health Behavior|Physical Activity|Self Efficacy|Vascular Stiffness',\n",
            "       'Conditions_Cardiovascular Risk Factor|Stress|Self Efficacy|Depressive Symptoms|Health Behavior',\n",
            "       ...\n",
            "       'Other Outcome Measures_physical activity as measured by the 7-Day Stanford Physical Activity Recall, The 7-Day Stanford Physical Activity Recall estimates an individual's time spent in sleep and physical activity for the 7 days prior to the interview. Energy expenditure based on time spent in sleep and physical activities can be estimated. Sub-scores of energy expenditure for each of the following activities are calculated, summed, and averaged to estimate energy expenditure as kilocalories per day: sleep, moderate physical activity, hard physical activity, and very hard physical activity. Higher scores indicate greater physical activity per day. Metabolic equivalent (MET) value for each activity is provided: 1 MET for sleep, 4 METs for moderate activity, 6 METs for hard activity, and 10 METs for very hard activity. Time spent in each activity over 7 days is multiplied by the appropriate MET value. Plausible minimum and maximum values are not provided., baseline to 6 months, 12 months, 24 months and 12 months - 18/24 months|quality of life as measured by the RAND 36-Item Health Survey, Short Form (SF-36), SF-36 measures eight aspects of health: physical functioning, bodily pain, role limitations due to physical health problems, role limitations due to personal or emotional problems, emotional well-being, social functioning, energy/fatigue, and general health perceptions. Perceived change in health is also assessed. Each of the subscales (8 aspects of health and perceived change) has a score range of 0 - 100. The composite score also has a score range of 0 - 100. Higher scores indicate more favorable health states. Each item is on a Likert scale, which is either 3 points (1 - 3) or 5 points (1 - 5). The protocol provides a transformed score for response to each item, and the transformed scores of the 9 subscales are averaged to derive a composite score between 0 and 100., baseline to 6 months, 12 months, 24 months and 12 months - 18/24 months|Duke Social Support and Stress Scale (DUSOCS), The DUSOCS measures perceived levels of social support and stress experienced from family and non-family social ties. There are six subscales: Family Support, Non-Family Support, Social Support (composite of Family and Non-Family Support), Family Stress, Non-Family Stress, and Social Stress (composite of Family and Non-Family Stress). The score range is 0 - 100 for each subscale. Higher scores on the Support and Stress scales indicate higher levels of perceived social support and stress, respectively. For each subscale, responses are summed up as raw scores. The raw scores are divided by the appropriate factors and multiplied by 100, resulting in a scaled score between 0 and 100. Calculation for Social Support involves summing up items related to Family Support and Non-Family Support and hence provides a composite score for the two sources of social support. Similarly, calculation for Social Stress involves summing up items related to Family Stress and Non-Family Stress., baseline to 6 months, 12 months, 24 months and 12 months - 18/24 months|Perceived Stress Scale (PSS), The PSS measures how different situations can affect emotions and perceived stress. The score range is 0 - 40. Higher scores indicate higher levels of perceived stress. There are 10 items, each of which is on a 5-point Likert scale (0 - 4). Four of the items require reverse coding. The score is determined by summing up responses to the 10 items., baseline to 6 months, 12 months, 24 months and 12 months - 18/24 months|Pittsburgh Sleep Quality Index (PSQI), The PSQI measures sleep quality and disturbance over the course of one month. There are seven subscales: subjective sleep quality, sleep latency, sleep duration, 4. habitual sleep efficiency, sleep disturbances, use of sleeping medication, and daytime dysfunction. The scoring range of each subscale is 0 - 3. The scoring range of the Global PSQI (the composite score of the seven subscales) is 0 - 21. For both the subscales and Global PSQI, higher scores indicate greater difficulties with sleeping. Subscales 1, 3, and 6 each consist of only one item, and no scoring calculations are applied. Subscales 2, 5, and 7 have multiple items that are summed up as raw scores, and the protocol provides the corresponding transformed scores. Subscale 4 calculates habitual sleep efficiency (Number of hours slept/Number of hours spent in bed x 100%) and assigns a transformed score. Global PSQI is the sum of the seven transformed scores., baseline to 6 months, 12 months, 24 months and 12 months - 18/24 months|World Health Organization Quality of Life, Short Form (WHOQOL-BREF), The WHOQOL-BREF measures four domains of health: physical health, psychological health, social relationships, and environment. Each measured domain has a score range of 0 - 100. Higher scores indicate higher quality of life with respect to each domain of health. There are 26 items, 24 of which are used for calculations (7 items for physical health, 6 items for psychological health, 3 items for social relationships, and 8 items for environment). Each item is on a 5-point Likert scale (1 - 5), and three negatively phrased items require reverse coding. The point values are summed up as raw scores, and the protocol provides the transformed score for each raw score., baseline to 6 months, 12 months, 24 months and 12 months - 18/24 months|Beck Depression Inventory (BDI-II), The BDI-II measures depression severity. The score range is 0 - 63, and higher scores indicate greater depression severity. Nineteen items are on a 4-point Likert scale (0 - 3). Two items are on a 7-point Likert scale, and responses are scaled to 0 - 3. The values are summed up to calculate the total score., baseline to 6 months, 12 months, 24 months and 12 months - 18/24 months',\n",
            "       'Sex_ALL', 'Sex_FEMALE', 'Sex_MALE', 'Age_ADULT',\n",
            "       'Age_ADULT, OLDER_ADULT', 'Age_CHILD', 'Age_CHILD, ADULT',\n",
            "       'Age_CHILD, ADULT, OLDER_ADULT', 'Age_OLDER_ADULT'],\n",
            "      dtype='object', length=316)\n"
          ]
        }
      ]
    },
    {
      "cell_type": "code",
      "source": [
        "# Example of interpreting cluster centers\n",
        "cluster_centers = pd.DataFrame(kmeans.cluster_centers_, columns=final_data.columns)\n",
        "print(cluster_centers)\n"
      ],
      "metadata": {
        "id": "_KWP2LEdw1V1",
        "colab": {
          "base_uri": "https://localhost:8080/"
        },
        "outputId": "ad4abb6d-a805-484e-a544-4ad7c3f622c8"
      },
      "execution_count": null,
      "outputs": [
        {
          "output_type": "stream",
          "name": "stdout",
          "text": [
            "   Conditions_Adolescent Obesity|Diabetes Mellitus  \\\n",
            "0                                         0.089286   \n",
            "1                                         0.000000   \n",
            "2                                         0.000000   \n",
            "\n",
            "   Conditions_Alzheimer Disease|Dementia|Cognitive Decline|Cognitive Impairment|Dementia, Alzheimer Type  \\\n",
            "0                                           0.053571                                                       \n",
            "1                                           0.000000                                                       \n",
            "2                                           0.000000                                                       \n",
            "\n",
            "   Conditions_Arthroplasty|Replacement|Knee Osteoarthritis  \\\n",
            "0                                           0.000000         \n",
            "1                                           0.030534         \n",
            "2                                           0.000000         \n",
            "\n",
            "   Conditions_At Risk of Type 2 Diabetes Mellitus  \\\n",
            "0                                        0.089286   \n",
            "1                                        0.000000   \n",
            "2                                        0.000000   \n",
            "\n",
            "   Conditions_Cardiac Arrest|Post Traumatic Stress Syndrome  \\\n",
            "0                                           0.000000          \n",
            "1                                           0.038168          \n",
            "2                                           0.000000          \n",
            "\n",
            "   Conditions_Cardiac Rehabilitation|Physical Activity|Fruit and Vegetable Intake  \\\n",
            "0                                           0.000000                                \n",
            "1                                           0.015267                                \n",
            "2                                           0.000000                                \n",
            "\n",
            "   Conditions_Cardiovascular Diseases  \\\n",
            "0                            0.000000   \n",
            "1                            0.015267   \n",
            "2                            0.000000   \n",
            "\n",
            "   Conditions_Cardiovascular Diseases|Cardiovascular Risk Factor  \\\n",
            "0                                           0.000000               \n",
            "1                                           0.015267               \n",
            "2                                           0.000000               \n",
            "\n",
            "   Conditions_Cardiovascular Risk Factor|Health Behavior|Physical Activity|Self Efficacy|Vascular Stiffness  \\\n",
            "0                                           0.035714                                                          \n",
            "1                                           0.000000                                                          \n",
            "2                                           0.000000                                                          \n",
            "\n",
            "   Conditions_Cardiovascular Risk Factor|Stress|Self Efficacy|Depressive Symptoms|Health Behavior  \\\n",
            "0                                           0.071429                                                \n",
            "1                                           0.000000                                                \n",
            "2                                           0.000000                                                \n",
            "\n",
            "   ...  \\\n",
            "0  ...   \n",
            "1  ...   \n",
            "2  ...   \n",
            "\n",
            "   Other Outcome Measures_physical activity as measured by the 7-Day Stanford Physical Activity Recall, The 7-Day Stanford Physical Activity Recall estimates an individual's time spent in sleep and physical activity for the 7 days prior to the interview. Energy expenditure based on time spent in sleep and physical activities can be estimated. Sub-scores of energy expenditure for each of the following activities are calculated, summed, and averaged to estimate energy expenditure as kilocalories per day: sleep, moderate physical activity, hard physical activity, and very hard physical activity. Higher scores indicate greater physical activity per day. Metabolic equivalent (MET) value for each activity is provided: 1 MET for sleep, 4 METs for moderate activity, 6 METs for hard activity, and 10 METs for very hard activity. Time spent in each activity over 7 days is multiplied by the appropriate MET value. Plausible minimum and maximum values are not provided., baseline to 6 months, 12 months, 24 months and 12 months - 18/24 months|quality of life as measured by the RAND 36-Item Health Survey, Short Form (SF-36), SF-36 measures eight aspects of health: physical functioning, bodily pain, role limitations due to physical health problems, role limitations due to personal or emotional problems, emotional well-being, social functioning, energy/fatigue, and general health perceptions. Perceived change in health is also assessed. Each of the subscales (8 aspects of health and perceived change) has a score range of 0 - 100. The composite score also has a score range of 0 - 100. Higher scores indicate more favorable health states. Each item is on a Likert scale, which is either 3 points (1 - 3) or 5 points (1 - 5). The protocol provides a transformed score for response to each item, and the transformed scores of the 9 subscales are averaged to derive a composite score between 0 and 100., baseline to 6 months, 12 months, 24 months and 12 months - 18/24 months|Duke Social Support and Stress Scale (DUSOCS), The DUSOCS measures perceived levels of social support and stress experienced from family and non-family social ties. There are six subscales: Family Support, Non-Family Support, Social Support (composite of Family and Non-Family Support), Family Stress, Non-Family Stress, and Social Stress (composite of Family and Non-Family Stress). The score range is 0 - 100 for each subscale. Higher scores on the Support and Stress scales indicate higher levels of perceived social support and stress, respectively. For each subscale, responses are summed up as raw scores. The raw scores are divided by the appropriate factors and multiplied by 100, resulting in a scaled score between 0 and 100. Calculation for Social Support involves summing up items related to Family Support and Non-Family Support and hence provides a composite score for the two sources of social support. Similarly, calculation for Social Stress involves summing up items related to Family Stress and Non-Family Stress., baseline to 6 months, 12 months, 24 months and 12 months - 18/24 months|Perceived Stress Scale (PSS), The PSS measures how different situations can affect emotions and perceived stress. The score range is 0 - 40. Higher scores indicate higher levels of perceived stress. There are 10 items, each of which is on a 5-point Likert scale (0 - 4). Four of the items require reverse coding. The score is determined by summing up responses to the 10 items., baseline to 6 months, 12 months, 24 months and 12 months - 18/24 months|Pittsburgh Sleep Quality Index (PSQI), The PSQI measures sleep quality and disturbance over the course of one month. There are seven subscales: subjective sleep quality, sleep latency, sleep duration, 4. habitual sleep efficiency, sleep disturbances, use of sleeping medication, and daytime dysfunction. The scoring range of each subscale is 0 - 3. The scoring range of the Global PSQI (the composite score of the seven subscales) is 0 - 21. For both the subscales and Global PSQI, higher scores indicate greater difficulties with sleeping. Subscales 1, 3, and 6 each consist of only one item, and no scoring calculations are applied. Subscales 2, 5, and 7 have multiple items that are summed up as raw scores, and the protocol provides the corresponding transformed scores. Subscale 4 calculates habitual sleep efficiency (Number of hours slept/Number of hours spent in bed x 100%) and assigns a transformed score. Global PSQI is the sum of the seven transformed scores., baseline to 6 months, 12 months, 24 months and 12 months - 18/24 months|World Health Organization Quality of Life, Short Form (WHOQOL-BREF), The WHOQOL-BREF measures four domains of health: physical health, psychological health, social relationships, and environment. Each measured domain has a score range of 0 - 100. Higher scores indicate higher quality of life with respect to each domain of health. There are 26 items, 24 of which are used for calculations (7 items for physical health, 6 items for psychological health, 3 items for social relationships, and 8 items for environment). Each item is on a 5-point Likert scale (1 - 5), and three negatively phrased items require reverse coding. The point values are summed up as raw scores, and the protocol provides the transformed score for each raw score., baseline to 6 months, 12 months, 24 months and 12 months - 18/24 months|Beck Depression Inventory (BDI-II), The BDI-II measures depression severity. The score range is 0 - 63, and higher scores indicate greater depression severity. Nineteen items are on a 4-point Likert scale (0 - 3). Two items are on a 7-point Likert scale, and responses are scaled to 0 - 3. The values are summed up to calculate the total score., baseline to 6 months, 12 months, 24 months and 12 months - 18/24 months  \\\n",
            "0                                           0.000000                                                                                                                                                                                                                                                                                                                                                                                                                                                                                                                                                                                                                                                                                                                                                                                                                                                                                                                                                                                                                                                                                                                                                                                                                                                                                                                                                                                                                                                                                                                                                                                                                                                                                                                                                                                                                                                                                                                                                                                                                                                                                                                                                                                                                                                                                                                                                                                                                                                                                                                                                                                                                                                                                                                                                                                                                                                                                                                                                                                                                                                                                                                                                                                                                                                                                                                                                                                                                                                                                                                                                                                                                                                                                                                                                                                                                                                                                                                                                                                                                                                                                                                                                                                                                                                                                                                                                                                                                                                                                                                                                                                                                                                                                                                                                                                                                                                                                                                                                                                                                                                                                                                                                                                                                                                                                                                                                                                                                                                                                                                                                                                                                                                                                                                                                                                                                                                                                                                                                                                                 \n",
            "1                                           0.015267                                                                                                                                                                                                                                                                                                                                                                                                                                                                                                                                                                                                                                                                                                                                                                                                                                                                                                                                                                                                                                                                                                                                                                                                                                                                                                                                                                                                                                                                                                                                                                                                                                                                                                                                                                                                                                                                                                                                                                                                                                                                                                                                                                                                                                                                                                                                                                                                                                                                                                                                                                                                                                                                                                                                                                                                                                                                                                                                                                                                                                                                                                                                                                                                                                                                                                                                                                                                                                                                                                                                                                                                                                                                                                                                                                                                                                                                                                                                                                                                                                                                                                                                                                                                                                                                                                                                                                                                                                                                                                                                                                                                                                                                                                                                                                                                                                                                                                                                                                                                                                                                                                                                                                                                                                                                                                                                                                                                                                                                                                                                                                                                                                                                                                                                                                                                                                                                                                                                                                                                 \n",
            "2                                           0.000000                                                                                                                                                                                                                                                                                                                                                                                                                                                                                                                                                                                                                                                                                                                                                                                                                                                                                                                                                                                                                                                                                                                                                                                                                                                                                                                                                                                                                                                                                                                                                                                                                                                                                                                                                                                                                                                                                                                                                                                                                                                                                                                                                                                                                                                                                                                                                                                                                                                                                                                                                                                                                                                                                                                                                                                                                                                                                                                                                                                                                                                                                                                                                                                                                                                                                                                                                                                                                                                                                                                                                                                                                                                                                                                                                                                                                                                                                                                                                                                                                                                                                                                                                                                                                                                                                                                                                                                                                                                                                                                                                                                                                                                                                                                                                                                                                                                                                                                                                                                                                                                                                                                                                                                                                                                                                                                                                                                                                                                                                                                                                                                                                                                                                                                                                                                                                                                                                                                                                                                                 \n",
            "\n",
            "    Sex_ALL  Sex_FEMALE  Sex_MALE  Age_ADULT  Age_ADULT, OLDER_ADULT  \\\n",
            "0  0.732143    0.232143  0.035714        0.5                     0.0   \n",
            "1  0.923664    0.061069  0.015267        0.0                     1.0   \n",
            "2  1.000000    0.000000  0.000000        0.0                     1.0   \n",
            "\n",
            "   Age_CHILD  Age_CHILD, ADULT  Age_CHILD, ADULT, OLDER_ADULT  Age_OLDER_ADULT  \n",
            "0   0.142857             0.125                       0.053571         0.178571  \n",
            "1   0.000000             0.000                       0.000000         0.000000  \n",
            "2   0.000000             0.000                       0.000000         0.000000  \n",
            "\n",
            "[3 rows x 316 columns]\n"
          ]
        }
      ]
    },
    {
      "cell_type": "code",
      "source": [
        "cluster_centers_df = pd.DataFrame(cluster_centers)\n",
        "feature_importance = pd.DataFrame({'Feature': final_data.columns,\n",
        "                                   'Cluster_0': cluster_centers_df[0],\n",
        "                                   'Cluster_1': cluster_centers_df[1],\n",
        "                                   'Cluster_2': cluster_centers_df[2]})"
      ],
      "metadata": {
        "colab": {
          "base_uri": "https://localhost:8080/",
          "height": 535
        },
        "id": "Ilqp6xSUCjaa",
        "outputId": "560274f5-9037-47d2-9714-1b750197961e"
      },
      "execution_count": null,
      "outputs": [
        {
          "output_type": "error",
          "ename": "KeyError",
          "evalue": "0",
          "traceback": [
            "\u001b[0;31m---------------------------------------------------------------------------\u001b[0m",
            "\u001b[0;31mKeyError\u001b[0m                                  Traceback (most recent call last)",
            "\u001b[0;32m/usr/local/lib/python3.10/dist-packages/pandas/core/indexes/base.py\u001b[0m in \u001b[0;36mget_loc\u001b[0;34m(self, key, method, tolerance)\u001b[0m\n\u001b[1;32m   3801\u001b[0m             \u001b[0;32mtry\u001b[0m\u001b[0;34m:\u001b[0m\u001b[0;34m\u001b[0m\u001b[0;34m\u001b[0m\u001b[0m\n\u001b[0;32m-> 3802\u001b[0;31m                 \u001b[0;32mreturn\u001b[0m \u001b[0mself\u001b[0m\u001b[0;34m.\u001b[0m\u001b[0m_engine\u001b[0m\u001b[0;34m.\u001b[0m\u001b[0mget_loc\u001b[0m\u001b[0;34m(\u001b[0m\u001b[0mcasted_key\u001b[0m\u001b[0;34m)\u001b[0m\u001b[0;34m\u001b[0m\u001b[0;34m\u001b[0m\u001b[0m\n\u001b[0m\u001b[1;32m   3803\u001b[0m             \u001b[0;32mexcept\u001b[0m \u001b[0mKeyError\u001b[0m \u001b[0;32mas\u001b[0m \u001b[0merr\u001b[0m\u001b[0;34m:\u001b[0m\u001b[0;34m\u001b[0m\u001b[0;34m\u001b[0m\u001b[0m\n",
            "\u001b[0;32m/usr/local/lib/python3.10/dist-packages/pandas/_libs/index.pyx\u001b[0m in \u001b[0;36mpandas._libs.index.IndexEngine.get_loc\u001b[0;34m()\u001b[0m\n",
            "\u001b[0;32m/usr/local/lib/python3.10/dist-packages/pandas/_libs/index.pyx\u001b[0m in \u001b[0;36mpandas._libs.index.IndexEngine.get_loc\u001b[0;34m()\u001b[0m\n",
            "\u001b[0;32mpandas/_libs/hashtable_class_helper.pxi\u001b[0m in \u001b[0;36mpandas._libs.hashtable.PyObjectHashTable.get_item\u001b[0;34m()\u001b[0m\n",
            "\u001b[0;32mpandas/_libs/hashtable_class_helper.pxi\u001b[0m in \u001b[0;36mpandas._libs.hashtable.PyObjectHashTable.get_item\u001b[0;34m()\u001b[0m\n",
            "\u001b[0;31mKeyError\u001b[0m: 0",
            "\nThe above exception was the direct cause of the following exception:\n",
            "\u001b[0;31mKeyError\u001b[0m                                  Traceback (most recent call last)",
            "\u001b[0;32m<ipython-input-37-bfb048dc5d84>\u001b[0m in \u001b[0;36m<cell line: 2>\u001b[0;34m()\u001b[0m\n\u001b[1;32m      1\u001b[0m \u001b[0mcluster_centers_df\u001b[0m \u001b[0;34m=\u001b[0m \u001b[0mpd\u001b[0m\u001b[0;34m.\u001b[0m\u001b[0mDataFrame\u001b[0m\u001b[0;34m(\u001b[0m\u001b[0mcluster_centers\u001b[0m\u001b[0;34m)\u001b[0m\u001b[0;34m\u001b[0m\u001b[0;34m\u001b[0m\u001b[0m\n\u001b[1;32m      2\u001b[0m feature_importance = pd.DataFrame({'Feature': final_data.columns, \n\u001b[0;32m----> 3\u001b[0;31m                                    \u001b[0;34m'Cluster_0'\u001b[0m\u001b[0;34m:\u001b[0m \u001b[0mcluster_centers_df\u001b[0m\u001b[0;34m[\u001b[0m\u001b[0;36m0\u001b[0m\u001b[0;34m]\u001b[0m\u001b[0;34m,\u001b[0m\u001b[0;34m\u001b[0m\u001b[0;34m\u001b[0m\u001b[0m\n\u001b[0m\u001b[1;32m      4\u001b[0m                                    \u001b[0;34m'Cluster_1'\u001b[0m\u001b[0;34m:\u001b[0m \u001b[0mcluster_centers_df\u001b[0m\u001b[0;34m[\u001b[0m\u001b[0;36m1\u001b[0m\u001b[0;34m]\u001b[0m\u001b[0;34m,\u001b[0m\u001b[0;34m\u001b[0m\u001b[0;34m\u001b[0m\u001b[0m\n\u001b[1;32m      5\u001b[0m                                    'Cluster_2': cluster_centers_df[2]})\n",
            "\u001b[0;32m/usr/local/lib/python3.10/dist-packages/pandas/core/frame.py\u001b[0m in \u001b[0;36m__getitem__\u001b[0;34m(self, key)\u001b[0m\n\u001b[1;32m   3805\u001b[0m             \u001b[0;32mif\u001b[0m \u001b[0mself\u001b[0m\u001b[0;34m.\u001b[0m\u001b[0mcolumns\u001b[0m\u001b[0;34m.\u001b[0m\u001b[0mnlevels\u001b[0m \u001b[0;34m>\u001b[0m \u001b[0;36m1\u001b[0m\u001b[0;34m:\u001b[0m\u001b[0;34m\u001b[0m\u001b[0;34m\u001b[0m\u001b[0m\n\u001b[1;32m   3806\u001b[0m                 \u001b[0;32mreturn\u001b[0m \u001b[0mself\u001b[0m\u001b[0;34m.\u001b[0m\u001b[0m_getitem_multilevel\u001b[0m\u001b[0;34m(\u001b[0m\u001b[0mkey\u001b[0m\u001b[0;34m)\u001b[0m\u001b[0;34m\u001b[0m\u001b[0;34m\u001b[0m\u001b[0m\n\u001b[0;32m-> 3807\u001b[0;31m             \u001b[0mindexer\u001b[0m \u001b[0;34m=\u001b[0m \u001b[0mself\u001b[0m\u001b[0;34m.\u001b[0m\u001b[0mcolumns\u001b[0m\u001b[0;34m.\u001b[0m\u001b[0mget_loc\u001b[0m\u001b[0;34m(\u001b[0m\u001b[0mkey\u001b[0m\u001b[0;34m)\u001b[0m\u001b[0;34m\u001b[0m\u001b[0;34m\u001b[0m\u001b[0m\n\u001b[0m\u001b[1;32m   3808\u001b[0m             \u001b[0;32mif\u001b[0m \u001b[0mis_integer\u001b[0m\u001b[0;34m(\u001b[0m\u001b[0mindexer\u001b[0m\u001b[0;34m)\u001b[0m\u001b[0;34m:\u001b[0m\u001b[0;34m\u001b[0m\u001b[0;34m\u001b[0m\u001b[0m\n\u001b[1;32m   3809\u001b[0m                 \u001b[0mindexer\u001b[0m \u001b[0;34m=\u001b[0m \u001b[0;34m[\u001b[0m\u001b[0mindexer\u001b[0m\u001b[0;34m]\u001b[0m\u001b[0;34m\u001b[0m\u001b[0;34m\u001b[0m\u001b[0m\n",
            "\u001b[0;32m/usr/local/lib/python3.10/dist-packages/pandas/core/indexes/base.py\u001b[0m in \u001b[0;36mget_loc\u001b[0;34m(self, key, method, tolerance)\u001b[0m\n\u001b[1;32m   3802\u001b[0m                 \u001b[0;32mreturn\u001b[0m \u001b[0mself\u001b[0m\u001b[0;34m.\u001b[0m\u001b[0m_engine\u001b[0m\u001b[0;34m.\u001b[0m\u001b[0mget_loc\u001b[0m\u001b[0;34m(\u001b[0m\u001b[0mcasted_key\u001b[0m\u001b[0;34m)\u001b[0m\u001b[0;34m\u001b[0m\u001b[0;34m\u001b[0m\u001b[0m\n\u001b[1;32m   3803\u001b[0m             \u001b[0;32mexcept\u001b[0m \u001b[0mKeyError\u001b[0m \u001b[0;32mas\u001b[0m \u001b[0merr\u001b[0m\u001b[0;34m:\u001b[0m\u001b[0;34m\u001b[0m\u001b[0;34m\u001b[0m\u001b[0m\n\u001b[0;32m-> 3804\u001b[0;31m                 \u001b[0;32mraise\u001b[0m \u001b[0mKeyError\u001b[0m\u001b[0;34m(\u001b[0m\u001b[0mkey\u001b[0m\u001b[0;34m)\u001b[0m \u001b[0;32mfrom\u001b[0m \u001b[0merr\u001b[0m\u001b[0;34m\u001b[0m\u001b[0;34m\u001b[0m\u001b[0m\n\u001b[0m\u001b[1;32m   3805\u001b[0m             \u001b[0;32mexcept\u001b[0m \u001b[0mTypeError\u001b[0m\u001b[0;34m:\u001b[0m\u001b[0;34m\u001b[0m\u001b[0;34m\u001b[0m\u001b[0m\n\u001b[1;32m   3806\u001b[0m                 \u001b[0;31m# If we have a listlike key, _check_indexing_error will raise\u001b[0m\u001b[0;34m\u001b[0m\u001b[0;34m\u001b[0m\u001b[0m\n",
            "\u001b[0;31mKeyError\u001b[0m: 0"
          ]
        }
      ]
    },
    {
      "cell_type": "code",
      "source": [
        "# Import necessary libraries\n",
        "import pandas as pd\n",
        "\n",
        "# Step 1: Enter demographic information\n",
        "age = input(\"Enter your age: \")\n",
        "sex = input(\"Enter your sex: \")\n",
        "race = input(\"Enter your race: \")\n",
        "gender = input(\"Enter your gender: \")\n",
        "comorbidities = input(\"Enter any comorbidities (separated by commas if multiple): \").split(',')\n",
        "\n",
        "# Step 2: Confirm weekly exercise goal\n",
        "weekly_goal = input(\"Confirm your weekly exercise goal (e.g., 150 mins MVPA, plus strength training): \")\n",
        "\n",
        "# Step 3: Preference\n",
        "start_preference = input(\"Do you prefer a gradual start or an immediate goal? \")\n",
        "exercise_variety = input(\"Do you prefer new types of exercise every day or consistency? \")\n",
        "\n",
        "# Step 4: Location of exercise\n",
        "exercise_location = input(\"Where do you plan to exercise (YMCA, Planet Fitness, other gym, home)? \")\n",
        "\n",
        "# Step 5: Select days and times of exercise\n",
        "days_of_exercise = input(\"Select the days of the week you plan to exercise (separated by commas if multiple): \").split(',')\n",
        "times_of_exercise = input(\"Select the times of the day you plan to exercise (separated by commas if multiple): \").split(',')\n",
        "\n",
        "# Step 6: Optional preference of exercise machine\n",
        "exercise_machine_preference = input(\"Enter your preference of exercise machine (e.g., treadmill, elliptical): \")\n",
        "\n",
        "# Step 7: Coordinate exercise buddy\n",
        "exercise_buddy = input(\"Do you want to coordinate/have a potential exercise buddy? \")\n",
        "\n",
        "# Step 8: Create appearance of virtual coach\n",
        "# This step involves more complex graphics and is beyond the scope of this code snippet\n",
        "\n",
        "# Displaying entered information\n",
        "print(\"\\nEntered information:\")\n",
        "print(f\"Age: {age}\")\n",
        "print(f\"Sex: {sex}\")\n",
        "print(f\"Race: {race}\")\n",
        "print(f\"Gender: {gender}\")\n",
        "print(f\"Comorbidities: {comorbidities}\")\n",
        "print(f\"Weekly exercise goal: {weekly_goal}\")\n",
        "print(f\"Start preference: {start_preference}\")\n",
        "print(f\"Exercise variety preference: {exercise_variety}\")\n",
        "print(f\"Exercise location: {exercise_location}\")\n",
        "print(f\"Days of exercise: {days_of_exercise}\")\n",
        "print(f\"Times of exercise: {times_of_exercise}\")\n",
        "print(f\"Exercise machine preference: {exercise_machine_preference}\")\n",
        "print(f\"Exercise buddy coordination: {exercise_buddy}\")\n"
      ],
      "metadata": {
        "colab": {
          "base_uri": "https://localhost:8080/"
        },
        "id": "wKWVdzjNs5DR",
        "outputId": "1386b936-bca4-426a-8e75-f49ae573309c"
      },
      "execution_count": null,
      "outputs": [
        {
          "output_type": "stream",
          "name": "stdout",
          "text": [
            "Enter your age: 26\n",
            "Enter your sex: male\n",
            "Enter your race: American\n",
            "Enter your gender: male\n",
            "Enter any comorbidities (separated by commas if multiple): hypertension\n",
            "Confirm your weekly exercise goal (e.g., 150 mins MVPA, plus strength training):  strength training\n",
            "Do you prefer a gradual start or an immediate goal? immediate goal\n",
            "Do you prefer new types of exercise every day or consistency? every day\n",
            "Where do you plan to exercise (YMCA, Planet Fitness, other gym, home)? home\n",
            "Select the days of the week you plan to exercise (separated by commas if multiple): sunday, monday\n",
            "Select the times of the day you plan to exercise (separated by commas if multiple): 2\n",
            "Enter your preference of exercise machine (e.g., treadmill, elliptical): treadmill\n",
            "Do you want to coordinate/have a potential exercise buddy? yes\n",
            "\n",
            "Entered information:\n",
            "Age: 26\n",
            "Sex: male\n",
            "Race: American\n",
            "Gender: male\n",
            "Comorbidities: ['hypertension']\n",
            "Weekly exercise goal:  strength training\n",
            "Start preference: immediate goal\n",
            "Exercise variety preference: every day\n",
            "Exercise location: home\n",
            "Days of exercise: ['sunday', ' monday']\n",
            "Times of exercise: ['2']\n",
            "Exercise machine preference: treadmill\n",
            "Exercise buddy coordination: yes\n"
          ]
        }
      ]
    },
    {
      "cell_type": "code",
      "source": [
        "import datetime\n",
        "import time\n",
        "\n",
        "# Step 1: Generate cardio and strength training exercises\n",
        "# This step would require a database of exercises and routines, and is beyond the scope of this code snippet\n",
        "\n",
        "# Step 2: User receives notification\n",
        "notification_time = datetime.datetime.now() + datetime.timedelta(minutes=15)  # Notification 15 minutes before exercise session\n",
        "print(f\"Notification: Your exercise session will start at {notification_time.strftime('%H:%M')}.\")\n",
        "\n",
        "# Step 3: User starts recording exercise time\n",
        "input(\"Press 'Enter' to begin recording exercise time.\")\n",
        "\n",
        "# Simulate exercise time recording\n",
        "print(\"Exercise session started.\")\n",
        "time.sleep(120)  # Simulating 2 minutes of exercise time\n",
        "\n",
        "# Step 4: User ends exercise session\n",
        "input(\"Press 'Enter' to end exercise session.\")\n",
        "\n",
        "# Simulate exercise session end\n",
        "print(\"Exercise session ended.\")\n",
        "\n",
        "# Step 5: Checkmark or X on types of exercises used\n",
        "exercise_types = ['Cardio', 'Strength Training']  # List of exercise types\n",
        "print(\"Types of exercises:\")\n",
        "for idx, exercise in enumerate(exercise_types):\n",
        "    print(f\"{idx+1}. {exercise}\")\n",
        "\n",
        "user_input = input(\"Enter the numbers of exercises used (separated by commas if multiple): \")\n",
        "used_exercises = [exercise_types[int(i)-1] for i in user_input.split(',')]\n",
        "\n",
        "# Step 6: Did they use another machine or not exercise?\n",
        "if 'Strength Training' in used_exercises:\n",
        "    additional_machine = input(\"Did you use another machine for strength training? (yes/no) \")\n",
        "    if additional_machine.lower() == 'yes':\n",
        "        additional_machine_used = input(\"Enter the name of the additional machine used: \")\n",
        "        print(f\"Additional machine used: {additional_machine_used}\")\n",
        "    else:\n",
        "        print(\"No additional machine used.\")\n",
        "elif 'Cardio' in used_exercises:\n",
        "    # If only cardio was used, we can ask if the user used any other cardio machine\n",
        "    additional_machine = input(\"Did you use another cardio machine? (yes/no) \")\n",
        "    if additional_machine.lower() == 'yes':\n",
        "        additional_machine_used = input(\"Enter the name of the additional cardio machine used: \")\n",
        "        print(f\"Additional cardio machine used: {additional_machine_used}\")\n",
        "    else:\n",
        "        print(\"No additional cardio machine used.\")\n",
        "\n",
        "# Step 7: Give reward if exercise time goal is met (gamification)\n",
        "exercise_time_goal = 150  # Example exercise time goal in minutes\n",
        "exercise_time = int(input(\"Enter the total exercise time (in minutes): \"))\n",
        "if exercise_time >= exercise_time_goal:\n",
        "    print(\"Congratulations! You've met your exercise time goal.\")\n",
        "    # Provide some reward or feedback for achieving the goal\n",
        "else:\n",
        "    print(\"Keep up the good work! You'll reach your goal with consistency.\")\n"
      ],
      "metadata": {
        "colab": {
          "base_uri": "https://localhost:8080/",
          "height": 277
        },
        "id": "NZwb8HRms5GA",
        "outputId": "736d5b5b-2a83-48ef-f7f8-52fc40025fc2"
      },
      "execution_count": null,
      "outputs": [
        {
          "output_type": "stream",
          "name": "stdout",
          "text": [
            "Notification: Your exercise session will start at 17:02.\n",
            "Press 'Enter' to begin recording exercise time.\n",
            "Exercise session started.\n"
          ]
        },
        {
          "output_type": "error",
          "ename": "KeyboardInterrupt",
          "evalue": "",
          "traceback": [
            "\u001b[0;31m---------------------------------------------------------------------------\u001b[0m",
            "\u001b[0;31mKeyboardInterrupt\u001b[0m                         Traceback (most recent call last)",
            "\u001b[0;32m<ipython-input-220-b77acb067e83>\u001b[0m in \u001b[0;36m<cell line: 16>\u001b[0;34m()\u001b[0m\n\u001b[1;32m     14\u001b[0m \u001b[0;31m# Simulate exercise time recording\u001b[0m\u001b[0;34m\u001b[0m\u001b[0;34m\u001b[0m\u001b[0m\n\u001b[1;32m     15\u001b[0m \u001b[0mprint\u001b[0m\u001b[0;34m(\u001b[0m\u001b[0;34m\"Exercise session started.\"\u001b[0m\u001b[0;34m)\u001b[0m\u001b[0;34m\u001b[0m\u001b[0;34m\u001b[0m\u001b[0m\n\u001b[0;32m---> 16\u001b[0;31m \u001b[0mtime\u001b[0m\u001b[0;34m.\u001b[0m\u001b[0msleep\u001b[0m\u001b[0;34m(\u001b[0m\u001b[0;36m120\u001b[0m\u001b[0;34m)\u001b[0m  \u001b[0;31m# Simulating 2 minutes of exercise time\u001b[0m\u001b[0;34m\u001b[0m\u001b[0;34m\u001b[0m\u001b[0m\n\u001b[0m\u001b[1;32m     17\u001b[0m \u001b[0;34m\u001b[0m\u001b[0m\n\u001b[1;32m     18\u001b[0m \u001b[0;31m# Step 4: User ends exercise session\u001b[0m\u001b[0;34m\u001b[0m\u001b[0;34m\u001b[0m\u001b[0m\n",
            "\u001b[0;31mKeyboardInterrupt\u001b[0m: "
          ]
        }
      ]
    },
    {
      "cell_type": "code",
      "source": [
        "# Importing necessary libraries\n",
        "import pandas as pd\n",
        "import numpy as np\n",
        "import matplotlib.pyplot as plt\n",
        "import seaborn as sns\n",
        "from sklearn.preprocessing import StandardScaler, OneHotEncoder\n",
        "from sklearn.compose import ColumnTransformer\n",
        "from sklearn.pipeline import Pipeline\n",
        "from sklearn.cluster import KMeans\n",
        "from sklearn.metrics import silhouette_score\n",
        "\n",
        "# Load the dataset\n",
        "file_paths = ['CAD and exercise.csv', 'CAD and exercise1.csv', 'CAD and exercise2.csv', 'CTG Alzeimers disease and exercise.csv', 'CTG Alzheimer disease and physical activity.csv', 'CTG Alzheimer disease.csv', 'CTG CAD and phycial activity.csv', 'CTG Cardiac and exercise.csv', 'CTG Cardio and exercise.csv', 'CTG Cardio and physical activity.csv', 'CTG Cardiovascular disease and exercise.csv', 'CTG Cardiovascular disease and physical activity.csv', 'CTG Chronic kidney disease and exercise.csv', 'CTG Chronic kidney disease and physical activity.csv', 'CTG Diabetes and exercise.csv', 'CTG Diabetes and physical activity.csv', 'CTG Diabetes mellitus and exercise.csv', 'CTG Diabetes mellitus type 2 and exercise.csv', 'CTG Diabetes mellitus type 2 and physical activity.csv', 'CTG Kneeosteoarthritis and exercise.csv', 'CTG Kneeosteoarthritis and physical activity.csv', 'CTG Obesity and exercise.csv', 'CTG Obesity and physical activity.csv', 'CTG Osteoarthritis and exercise.csv', 'CTG Osteoarthritis and physical activity.csv', 'CTG PAD and exercise 1.csv', 'CTG PAD and exercise.csv', 'CTG PAD and physical activity.csv', 'CTG PAD and physical activity1.csv', 'CTG Physical activity and CAD.csv', 'CTG heart and exercise.csv', 'CTG stroke and exercise.csv', 'CTG stroke and exercise1.csv', 'CTG stroke and physical activity.csv', 'CTG stroke and physical activity1.csv', 'CTG studies diabetes and physical activity.csv']\n",
        "\n",
        "dataframes = []\n",
        "for file in file_paths:\n",
        "    data = pd.read_csv(file)\n",
        "    dataframes.append(data)\n",
        "\n",
        "merged_data = pd.concat(dataframes, ignore_index=True)\n",
        "\n",
        "# Handling missing values\n",
        "relevant_columns = ['Conditions', 'Interventions', 'Primary Outcome Measures', 'Secondary Outcome Measures', 'Other Outcome Measures', 'Sex', 'Age']\n",
        "merged_data = merged_data.dropna(subset=relevant_columns)\n",
        "\n",
        "# Preprocessing the data\n",
        "# Encoding categorical variables and scaling numerical variables\n",
        "preprocessor = ColumnTransformer(\n",
        "    transformers=[\n",
        "        ('cat', OneHotEncoder(), ['Conditions', 'Interventions', 'Sex']),\n",
        "        ('num', StandardScaler(), ['Age'])\n",
        "    ])\n",
        "\n",
        "# Define pipeline with preprocessor and clustering algorithm\n",
        "pipeline = Pipeline([\n",
        "    ('preprocessor', preprocessor),\n",
        "    ('clusterer', KMeans())\n",
        "])\n",
        "\n",
        "# Parameters for KMeans clustering\n",
        "param_grid = {\n",
        "    'clusterer__n_clusters': [2, 3, 4, 5]  # Try different number of clusters\n",
        "}\n",
        "\n",
        "# Grid search to find the best number of clusters\n",
        "grid_search = GridSearchCV(pipeline, param_grid, cv=5, scoring='silhouette')\n",
        "grid_search.fit(merged_data.drop(columns=['Cluster']), merged_data['Cluster'])\n",
        "\n",
        "# Best number of clusters\n",
        "best_clusters = grid_search.best_params_['clusterer__n_clusters']\n",
        "print(\"Best number of clusters:\", best_clusters)\n",
        "\n",
        "# Fit the pipeline with the best number of clusters\n",
        "pipeline.set_params(clusterer__n_clusters=best_clusters)\n",
        "pipeline.fit(merged_data)  # Fit the pipeline to the entire dataset\n",
        "\n",
        "# Add cluster labels to the dataset\n",
        "merged_data['Cluster'] = pipeline.named_steps['clusterer'].labels_\n",
        "\n",
        "# Evaluating the clusters\n",
        "silhouette_avg = silhouette_score(merged_data.drop(columns=['Cluster']), merged_data['Cluster'])\n",
        "print(\"Silhouette Score:\", silhouette_avg)\n",
        "\n",
        "\n",
        "\n",
        "# Interpretation and Recommendations\n",
        "# Analyzing characteristics of each cluster and providing exercise recommendations\n",
        "\n",
        "# Cluster characteristics\n",
        "cluster_summary = merged_data.groupby('Cluster').agg({\n",
        "    'Conditions': lambda x: x.value_counts().index[0],\n",
        "    'Interventions': lambda x: x.value_counts().index[0],\n",
        "    'Age': 'mean',\n",
        "    'Sex': lambda x: x.value_counts().index[0],\n",
        "    'Enrollment': 'mean'\n",
        "}).reset_index()\n",
        "\n",
        "print(cluster_summary)\n",
        "\n",
        "# Provide exercise recommendations based on cluster insights\n",
        "# You can add personalized recommendations based on the characteristics of each cluster.\n",
        "\n"
      ],
      "metadata": {
        "id": "GSxHbvlCs5Mf",
        "colab": {
          "base_uri": "https://localhost:8080/",
          "height": 389
        },
        "outputId": "7df7e03d-cf91-47e2-b9ab-840e51a48209"
      },
      "execution_count": null,
      "outputs": [
        {
          "output_type": "error",
          "ename": "KeyError",
          "evalue": "\"['Cluster'] not found in axis\"",
          "traceback": [
            "\u001b[0;31m---------------------------------------------------------------------------\u001b[0m",
            "\u001b[0;31mKeyError\u001b[0m                                  Traceback (most recent call last)",
            "\u001b[0;32m<ipython-input-38-bf7b4df076d6>\u001b[0m in \u001b[0;36m<cell line: 47>\u001b[0;34m()\u001b[0m\n\u001b[1;32m     45\u001b[0m \u001b[0;31m# Grid search to find the best number of clusters\u001b[0m\u001b[0;34m\u001b[0m\u001b[0;34m\u001b[0m\u001b[0m\n\u001b[1;32m     46\u001b[0m \u001b[0mgrid_search\u001b[0m \u001b[0;34m=\u001b[0m \u001b[0mGridSearchCV\u001b[0m\u001b[0;34m(\u001b[0m\u001b[0mpipeline\u001b[0m\u001b[0;34m,\u001b[0m \u001b[0mparam_grid\u001b[0m\u001b[0;34m,\u001b[0m \u001b[0mcv\u001b[0m\u001b[0;34m=\u001b[0m\u001b[0;36m5\u001b[0m\u001b[0;34m,\u001b[0m \u001b[0mscoring\u001b[0m\u001b[0;34m=\u001b[0m\u001b[0;34m'silhouette'\u001b[0m\u001b[0;34m)\u001b[0m\u001b[0;34m\u001b[0m\u001b[0;34m\u001b[0m\u001b[0m\n\u001b[0;32m---> 47\u001b[0;31m \u001b[0mgrid_search\u001b[0m\u001b[0;34m.\u001b[0m\u001b[0mfit\u001b[0m\u001b[0;34m(\u001b[0m\u001b[0mmerged_data\u001b[0m\u001b[0;34m.\u001b[0m\u001b[0mdrop\u001b[0m\u001b[0;34m(\u001b[0m\u001b[0mcolumns\u001b[0m\u001b[0;34m=\u001b[0m\u001b[0;34m[\u001b[0m\u001b[0;34m'Cluster'\u001b[0m\u001b[0;34m]\u001b[0m\u001b[0;34m)\u001b[0m\u001b[0;34m,\u001b[0m \u001b[0mmerged_data\u001b[0m\u001b[0;34m[\u001b[0m\u001b[0;34m'Cluster'\u001b[0m\u001b[0;34m]\u001b[0m\u001b[0;34m)\u001b[0m\u001b[0;34m\u001b[0m\u001b[0;34m\u001b[0m\u001b[0m\n\u001b[0m\u001b[1;32m     48\u001b[0m \u001b[0;34m\u001b[0m\u001b[0m\n\u001b[1;32m     49\u001b[0m \u001b[0;31m# Best number of clusters\u001b[0m\u001b[0;34m\u001b[0m\u001b[0;34m\u001b[0m\u001b[0m\n",
            "\u001b[0;32m/usr/local/lib/python3.10/dist-packages/pandas/util/_decorators.py\u001b[0m in \u001b[0;36mwrapper\u001b[0;34m(*args, **kwargs)\u001b[0m\n\u001b[1;32m    329\u001b[0m                     \u001b[0mstacklevel\u001b[0m\u001b[0;34m=\u001b[0m\u001b[0mfind_stack_level\u001b[0m\u001b[0;34m(\u001b[0m\u001b[0;34m)\u001b[0m\u001b[0;34m,\u001b[0m\u001b[0;34m\u001b[0m\u001b[0;34m\u001b[0m\u001b[0m\n\u001b[1;32m    330\u001b[0m                 )\n\u001b[0;32m--> 331\u001b[0;31m             \u001b[0;32mreturn\u001b[0m \u001b[0mfunc\u001b[0m\u001b[0;34m(\u001b[0m\u001b[0;34m*\u001b[0m\u001b[0margs\u001b[0m\u001b[0;34m,\u001b[0m \u001b[0;34m**\u001b[0m\u001b[0mkwargs\u001b[0m\u001b[0;34m)\u001b[0m\u001b[0;34m\u001b[0m\u001b[0;34m\u001b[0m\u001b[0m\n\u001b[0m\u001b[1;32m    332\u001b[0m \u001b[0;34m\u001b[0m\u001b[0m\n\u001b[1;32m    333\u001b[0m         \u001b[0;31m# error: \"Callable[[VarArg(Any), KwArg(Any)], Any]\" has no\u001b[0m\u001b[0;34m\u001b[0m\u001b[0;34m\u001b[0m\u001b[0m\n",
            "\u001b[0;32m/usr/local/lib/python3.10/dist-packages/pandas/core/frame.py\u001b[0m in \u001b[0;36mdrop\u001b[0;34m(self, labels, axis, index, columns, level, inplace, errors)\u001b[0m\n\u001b[1;32m   5397\u001b[0m                 \u001b[0mweight\u001b[0m  \u001b[0;36m1.0\u001b[0m     \u001b[0;36m0.8\u001b[0m\u001b[0;34m\u001b[0m\u001b[0;34m\u001b[0m\u001b[0m\n\u001b[1;32m   5398\u001b[0m         \"\"\"\n\u001b[0;32m-> 5399\u001b[0;31m         return super().drop(\n\u001b[0m\u001b[1;32m   5400\u001b[0m             \u001b[0mlabels\u001b[0m\u001b[0;34m=\u001b[0m\u001b[0mlabels\u001b[0m\u001b[0;34m,\u001b[0m\u001b[0;34m\u001b[0m\u001b[0;34m\u001b[0m\u001b[0m\n\u001b[1;32m   5401\u001b[0m             \u001b[0maxis\u001b[0m\u001b[0;34m=\u001b[0m\u001b[0maxis\u001b[0m\u001b[0;34m,\u001b[0m\u001b[0;34m\u001b[0m\u001b[0;34m\u001b[0m\u001b[0m\n",
            "\u001b[0;32m/usr/local/lib/python3.10/dist-packages/pandas/util/_decorators.py\u001b[0m in \u001b[0;36mwrapper\u001b[0;34m(*args, **kwargs)\u001b[0m\n\u001b[1;32m    329\u001b[0m                     \u001b[0mstacklevel\u001b[0m\u001b[0;34m=\u001b[0m\u001b[0mfind_stack_level\u001b[0m\u001b[0;34m(\u001b[0m\u001b[0;34m)\u001b[0m\u001b[0;34m,\u001b[0m\u001b[0;34m\u001b[0m\u001b[0;34m\u001b[0m\u001b[0m\n\u001b[1;32m    330\u001b[0m                 )\n\u001b[0;32m--> 331\u001b[0;31m             \u001b[0;32mreturn\u001b[0m \u001b[0mfunc\u001b[0m\u001b[0;34m(\u001b[0m\u001b[0;34m*\u001b[0m\u001b[0margs\u001b[0m\u001b[0;34m,\u001b[0m \u001b[0;34m**\u001b[0m\u001b[0mkwargs\u001b[0m\u001b[0;34m)\u001b[0m\u001b[0;34m\u001b[0m\u001b[0;34m\u001b[0m\u001b[0m\n\u001b[0m\u001b[1;32m    332\u001b[0m \u001b[0;34m\u001b[0m\u001b[0m\n\u001b[1;32m    333\u001b[0m         \u001b[0;31m# error: \"Callable[[VarArg(Any), KwArg(Any)], Any]\" has no\u001b[0m\u001b[0;34m\u001b[0m\u001b[0;34m\u001b[0m\u001b[0m\n",
            "\u001b[0;32m/usr/local/lib/python3.10/dist-packages/pandas/core/generic.py\u001b[0m in \u001b[0;36mdrop\u001b[0;34m(self, labels, axis, index, columns, level, inplace, errors)\u001b[0m\n\u001b[1;32m   4503\u001b[0m         \u001b[0;32mfor\u001b[0m \u001b[0maxis\u001b[0m\u001b[0;34m,\u001b[0m \u001b[0mlabels\u001b[0m \u001b[0;32min\u001b[0m \u001b[0maxes\u001b[0m\u001b[0;34m.\u001b[0m\u001b[0mitems\u001b[0m\u001b[0;34m(\u001b[0m\u001b[0;34m)\u001b[0m\u001b[0;34m:\u001b[0m\u001b[0;34m\u001b[0m\u001b[0;34m\u001b[0m\u001b[0m\n\u001b[1;32m   4504\u001b[0m             \u001b[0;32mif\u001b[0m \u001b[0mlabels\u001b[0m \u001b[0;32mis\u001b[0m \u001b[0;32mnot\u001b[0m \u001b[0;32mNone\u001b[0m\u001b[0;34m:\u001b[0m\u001b[0;34m\u001b[0m\u001b[0;34m\u001b[0m\u001b[0m\n\u001b[0;32m-> 4505\u001b[0;31m                 \u001b[0mobj\u001b[0m \u001b[0;34m=\u001b[0m \u001b[0mobj\u001b[0m\u001b[0;34m.\u001b[0m\u001b[0m_drop_axis\u001b[0m\u001b[0;34m(\u001b[0m\u001b[0mlabels\u001b[0m\u001b[0;34m,\u001b[0m \u001b[0maxis\u001b[0m\u001b[0;34m,\u001b[0m \u001b[0mlevel\u001b[0m\u001b[0;34m=\u001b[0m\u001b[0mlevel\u001b[0m\u001b[0;34m,\u001b[0m \u001b[0merrors\u001b[0m\u001b[0;34m=\u001b[0m\u001b[0merrors\u001b[0m\u001b[0;34m)\u001b[0m\u001b[0;34m\u001b[0m\u001b[0;34m\u001b[0m\u001b[0m\n\u001b[0m\u001b[1;32m   4506\u001b[0m \u001b[0;34m\u001b[0m\u001b[0m\n\u001b[1;32m   4507\u001b[0m         \u001b[0;32mif\u001b[0m \u001b[0minplace\u001b[0m\u001b[0;34m:\u001b[0m\u001b[0;34m\u001b[0m\u001b[0;34m\u001b[0m\u001b[0m\n",
            "\u001b[0;32m/usr/local/lib/python3.10/dist-packages/pandas/core/generic.py\u001b[0m in \u001b[0;36m_drop_axis\u001b[0;34m(self, labels, axis, level, errors, only_slice)\u001b[0m\n\u001b[1;32m   4544\u001b[0m                 \u001b[0mnew_axis\u001b[0m \u001b[0;34m=\u001b[0m \u001b[0maxis\u001b[0m\u001b[0;34m.\u001b[0m\u001b[0mdrop\u001b[0m\u001b[0;34m(\u001b[0m\u001b[0mlabels\u001b[0m\u001b[0;34m,\u001b[0m \u001b[0mlevel\u001b[0m\u001b[0;34m=\u001b[0m\u001b[0mlevel\u001b[0m\u001b[0;34m,\u001b[0m \u001b[0merrors\u001b[0m\u001b[0;34m=\u001b[0m\u001b[0merrors\u001b[0m\u001b[0;34m)\u001b[0m\u001b[0;34m\u001b[0m\u001b[0;34m\u001b[0m\u001b[0m\n\u001b[1;32m   4545\u001b[0m             \u001b[0;32melse\u001b[0m\u001b[0;34m:\u001b[0m\u001b[0;34m\u001b[0m\u001b[0;34m\u001b[0m\u001b[0m\n\u001b[0;32m-> 4546\u001b[0;31m                 \u001b[0mnew_axis\u001b[0m \u001b[0;34m=\u001b[0m \u001b[0maxis\u001b[0m\u001b[0;34m.\u001b[0m\u001b[0mdrop\u001b[0m\u001b[0;34m(\u001b[0m\u001b[0mlabels\u001b[0m\u001b[0;34m,\u001b[0m \u001b[0merrors\u001b[0m\u001b[0;34m=\u001b[0m\u001b[0merrors\u001b[0m\u001b[0;34m)\u001b[0m\u001b[0;34m\u001b[0m\u001b[0;34m\u001b[0m\u001b[0m\n\u001b[0m\u001b[1;32m   4547\u001b[0m             \u001b[0mindexer\u001b[0m \u001b[0;34m=\u001b[0m \u001b[0maxis\u001b[0m\u001b[0;34m.\u001b[0m\u001b[0mget_indexer\u001b[0m\u001b[0;34m(\u001b[0m\u001b[0mnew_axis\u001b[0m\u001b[0;34m)\u001b[0m\u001b[0;34m\u001b[0m\u001b[0;34m\u001b[0m\u001b[0m\n\u001b[1;32m   4548\u001b[0m \u001b[0;34m\u001b[0m\u001b[0m\n",
            "\u001b[0;32m/usr/local/lib/python3.10/dist-packages/pandas/core/indexes/base.py\u001b[0m in \u001b[0;36mdrop\u001b[0;34m(self, labels, errors)\u001b[0m\n\u001b[1;32m   6932\u001b[0m         \u001b[0;32mif\u001b[0m \u001b[0mmask\u001b[0m\u001b[0;34m.\u001b[0m\u001b[0many\u001b[0m\u001b[0;34m(\u001b[0m\u001b[0;34m)\u001b[0m\u001b[0;34m:\u001b[0m\u001b[0;34m\u001b[0m\u001b[0;34m\u001b[0m\u001b[0m\n\u001b[1;32m   6933\u001b[0m             \u001b[0;32mif\u001b[0m \u001b[0merrors\u001b[0m \u001b[0;34m!=\u001b[0m \u001b[0;34m\"ignore\"\u001b[0m\u001b[0;34m:\u001b[0m\u001b[0;34m\u001b[0m\u001b[0;34m\u001b[0m\u001b[0m\n\u001b[0;32m-> 6934\u001b[0;31m                 \u001b[0;32mraise\u001b[0m \u001b[0mKeyError\u001b[0m\u001b[0;34m(\u001b[0m\u001b[0;34mf\"{list(labels[mask])} not found in axis\"\u001b[0m\u001b[0;34m)\u001b[0m\u001b[0;34m\u001b[0m\u001b[0;34m\u001b[0m\u001b[0m\n\u001b[0m\u001b[1;32m   6935\u001b[0m             \u001b[0mindexer\u001b[0m \u001b[0;34m=\u001b[0m \u001b[0mindexer\u001b[0m\u001b[0;34m[\u001b[0m\u001b[0;34m~\u001b[0m\u001b[0mmask\u001b[0m\u001b[0;34m]\u001b[0m\u001b[0;34m\u001b[0m\u001b[0;34m\u001b[0m\u001b[0m\n\u001b[1;32m   6936\u001b[0m         \u001b[0;32mreturn\u001b[0m \u001b[0mself\u001b[0m\u001b[0;34m.\u001b[0m\u001b[0mdelete\u001b[0m\u001b[0;34m(\u001b[0m\u001b[0mindexer\u001b[0m\u001b[0;34m)\u001b[0m\u001b[0;34m\u001b[0m\u001b[0;34m\u001b[0m\u001b[0m\n",
            "\u001b[0;31mKeyError\u001b[0m: \"['Cluster'] not found in axis\""
          ]
        }
      ]
    },
    {
      "cell_type": "markdown",
      "source": [],
      "metadata": {
        "id": "Btv0HmAuYtTA"
      }
    }
  ]
}