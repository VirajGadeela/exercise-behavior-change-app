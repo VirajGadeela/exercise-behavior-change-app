{
  "nbformat": 4,
  "nbformat_minor": 0,
  "metadata": {
    "colab": {
      "provenance": []
    },
    "kernelspec": {
      "name": "python3",
      "display_name": "Python 3"
    },
    "language_info": {
      "name": "python"
    }
  },
  "cells": [
    {
      "cell_type": "code",
      "execution_count": null,
      "metadata": {
        "id": "4I5gsDdiQEx3"
      },
      "outputs": [],
      "source": [
        "import numpy as np\n",
        "import pandas as pd"
      ]
    },
    {
      "cell_type": "markdown",
      "source": [
        "#Load the datasets into a pandas DataFrame."
      ],
      "metadata": {
        "id": "We20HuZ_zpAd"
      }
    },
    {
      "cell_type": "code",
      "source": [
        "file_paths = ['CAD and exercise.csv','CAD and exercise1.csv', 'CAD and exercise2.csv', 'CTG Alzeimers disease and exercise.csv', 'CTG Alzheimer disease and physical activity.csv', 'CTG Alzheimer disease.csv', 'CTG CAD and phycial activity.csv','CTG Cardiac and exercise.csv','CTG Cardio and exercise.csv','CTG Cardio and physical activity.csv', 'CTG Cardiovascular disease and exercise.csv', 'CTG Cardiovascular disease and physical activity.csv','CTG Chronic kidney disease and exercise.csv','CTG Chronic kidney disease and physical activity.csv','CTG Diabetes and exercise.csv','CTG Diabetes and physical activity.csv','CTG Diabetes mellitus and exercise.csv','CTG Diabetes mellitus type 2 and exercise.csv','CTG Diabetes mellitus type 2 and physical activity.csv', 'CTG Kneeosteoarthritis and exercise.csv','CTG Kneeosteoarthritis and physical activity.csv','CTG Obesity and exercise.csv','CTG Obesity and physical activity.csv','CTG Osteoarthritis and exercise.csv','CTG Osteoarthritis and physical activity.csv','CTG PAD and exercise 1.csv','CTG PAD and exercise.csv','CTG PAD and physical activity.csv','CTG PAD and physical activity1.csv','CTG Physical activity and CAD.csv','CTG heart and exercise.csv','CTG stroke and exercise.csv','CTG stroke and exercise1.csv','CTG stroke and physical activity.csv','CTG stroke and physical activity1.csv','CTG studies diabetes and physical activity.csv']"
      ],
      "metadata": {
        "id": "WfB9-fpcrI6X"
      },
      "execution_count": null,
      "outputs": []
    },
    {
      "cell_type": "code",
      "source": [
        "dataframes = [pd.read_csv(file) for file in file_paths]"
      ],
      "metadata": {
        "id": "d-fot-AryIhp"
      },
      "execution_count": null,
      "outputs": []
    },
    {
      "cell_type": "markdown",
      "source": [
        "#Clean the data by handling missing values, removing irrelevant columns, and standardizing the format of the remaining columns."
      ],
      "metadata": {
        "id": "GQtHBSQYztM5"
      }
    },
    {
      "cell_type": "code",
      "source": [
        "cleaned_dataframes = [df.dropna() for df in dataframes]"
      ],
      "metadata": {
        "id": "LZe3x7POybNi"
      },
      "execution_count": null,
      "outputs": []
    },
    {
      "cell_type": "code",
      "source": [
        "relevant_columns = ['NCT Number', 'Conditions', 'Interventions', 'Primary Outcome Measures', 'Sex', 'Age']\n"
      ],
      "metadata": {
        "id": "ku2LMlWGydms"
      },
      "execution_count": null,
      "outputs": []
    },
    {
      "cell_type": "code",
      "source": [
        "print(relevant_columns)"
      ],
      "metadata": {
        "colab": {
          "base_uri": "https://localhost:8080/"
        },
        "id": "lDWcx5qg0i0B",
        "outputId": "dd2b9abe-a2ed-47ab-c7d8-fe3c61bd355b"
      },
      "execution_count": null,
      "outputs": [
        {
          "output_type": "stream",
          "name": "stdout",
          "text": [
            "['NCT Number', 'Conditions', 'Interventions', 'Primary Outcome Measures', 'Sex', 'Age']\n"
          ]
        }
      ]
    },
    {
      "cell_type": "code",
      "source": [
        "for df in cleaned_dataframes:\n",
        "    print(df.columns)"
      ],
      "metadata": {
        "colab": {
          "base_uri": "https://localhost:8080/"
        },
        "id": "4sVKIcPX167U",
        "outputId": "e8233060-9e25-4ee1-b832-da764408736b"
      },
      "execution_count": null,
      "outputs": [
        {
          "output_type": "stream",
          "name": "stdout",
          "text": [
            "Index(['NCT Number', 'Study Title', 'Study URL', 'Acronym', 'Study Status',\n",
            "       'Brief Summary', 'Study Results', 'Conditions', 'Interventions',\n",
            "       'Primary Outcome Measures', 'Secondary Outcome Measures',\n",
            "       'Other Outcome Measures', 'Sponsor', 'Collaborators', 'Sex', 'Age',\n",
            "       'Phases', 'Enrollment', 'Funder Type', 'Study Type', 'Study Design',\n",
            "       'Other IDs', 'Start Date', 'Primary Completion Date', 'Completion Date',\n",
            "       'First Posted', 'Results First Posted', 'Last Update Posted',\n",
            "       'Locations', 'Study Documents'],\n",
            "      dtype='object')\n",
            "Index(['NCT Number', 'Study Title', 'Study URL', 'Acronym', 'Study Status',\n",
            "       'Brief Summary', 'Study Results', 'Conditions', 'Interventions',\n",
            "       'Primary Outcome Measures', 'Secondary Outcome Measures',\n",
            "       'Other Outcome Measures', 'Sponsor', 'Collaborators', 'Sex', 'Age',\n",
            "       'Phases', 'Enrollment', 'Funder Type', 'Study Type', 'Study Design',\n",
            "       'Other IDs', 'Start Date', 'Primary Completion Date', 'Completion Date',\n",
            "       'First Posted', 'Results First Posted', 'Last Update Posted',\n",
            "       'Locations', 'Study Documents'],\n",
            "      dtype='object')\n",
            "Index(['NCT Number', 'Study Title', 'Study URL', 'Acronym', 'Study Status',\n",
            "       'Brief Summary', 'Study Results', 'Conditions', 'Interventions',\n",
            "       'Primary Outcome Measures', 'Secondary Outcome Measures',\n",
            "       'Other Outcome Measures', 'Sponsor', 'Collaborators', 'Sex', 'Age',\n",
            "       'Phases', 'Enrollment', 'Funder Type', 'Study Type', 'Study Design',\n",
            "       'Other IDs', 'Start Date', 'Primary Completion Date', 'Completion Date',\n",
            "       'First Posted', 'Results First Posted', 'Last Update Posted',\n",
            "       'Locations', 'Study Documents'],\n",
            "      dtype='object')\n",
            "Index(['NCT Number', 'Study Title', 'Study URL', 'Acronym', 'Study Status',\n",
            "       'Brief Summary', 'Study Results', 'Conditions', 'Interventions',\n",
            "       'Primary Outcome Measures', 'Secondary Outcome Measures',\n",
            "       'Other Outcome Measures', 'Sponsor', 'Collaborators', 'Sex', 'Age',\n",
            "       'Phases', 'Enrollment', 'Funder Type', 'Study Type', 'Study Design',\n",
            "       'Other IDs', 'Start Date', 'Primary Completion Date', 'Completion Date',\n",
            "       'First Posted', 'Results First Posted', 'Last Update Posted',\n",
            "       'Locations', 'Study Documents'],\n",
            "      dtype='object')\n",
            "Index(['NCT Number', 'Study Title', 'Study URL', 'Acronym', 'Study Status',\n",
            "       'Brief Summary', 'Study Results', 'Conditions', 'Interventions',\n",
            "       'Primary Outcome Measures', 'Secondary Outcome Measures',\n",
            "       'Other Outcome Measures', 'Sponsor', 'Collaborators', 'Sex', 'Age',\n",
            "       'Phases', 'Enrollment', 'Funder Type', 'Study Type', 'Study Design',\n",
            "       'Other IDs', 'Start Date', 'Primary Completion Date', 'Completion Date',\n",
            "       'First Posted', 'Results First Posted', 'Last Update Posted',\n",
            "       'Locations', 'Study Documents'],\n",
            "      dtype='object')\n",
            "Index(['NCT Number', 'Study Title', 'Study URL', 'Acronym', 'Study Status',\n",
            "       'Brief Summary', 'Study Results', 'Conditions', 'Interventions',\n",
            "       'Primary Outcome Measures', 'Secondary Outcome Measures',\n",
            "       'Other Outcome Measures', 'Sponsor', 'Collaborators', 'Sex', 'Age',\n",
            "       'Phases', 'Enrollment', 'Funder Type', 'Study Type', 'Study Design',\n",
            "       'Other IDs', 'Start Date', 'Primary Completion Date', 'Completion Date',\n",
            "       'First Posted', 'Results First Posted', 'Last Update Posted',\n",
            "       'Locations', 'Study Documents'],\n",
            "      dtype='object')\n",
            "Index(['NCT Number', 'Study Title', 'Study URL', 'Acronym', 'Study Status',\n",
            "       'Brief Summary', 'Study Results', 'Conditions', 'Interventions',\n",
            "       'Primary Outcome Measures', 'Secondary Outcome Measures',\n",
            "       'Other Outcome Measures', 'Sponsor', 'Collaborators', 'Sex', 'Age',\n",
            "       'Phases', 'Enrollment', 'Funder Type', 'Study Type', 'Study Design',\n",
            "       'Other IDs', 'Start Date', 'Primary Completion Date', 'Completion Date',\n",
            "       'First Posted', 'Results First Posted', 'Last Update Posted',\n",
            "       'Locations', 'Study Documents'],\n",
            "      dtype='object')\n",
            "Index(['NCT Number', 'Study Title', 'Study URL', 'Acronym', 'Study Status',\n",
            "       'Brief Summary', 'Study Results', 'Conditions', 'Interventions',\n",
            "       'Primary Outcome Measures', 'Secondary Outcome Measures',\n",
            "       'Other Outcome Measures', 'Sponsor', 'Collaborators', 'Sex', 'Age',\n",
            "       'Phases', 'Enrollment', 'Funder Type', 'Study Type', 'Study Design',\n",
            "       'Other IDs', 'Start Date', 'Primary Completion Date', 'Completion Date',\n",
            "       'First Posted', 'Results First Posted', 'Last Update Posted',\n",
            "       'Locations', 'Study Documents'],\n",
            "      dtype='object')\n",
            "Index(['NCT Number', 'Study Title', 'Study URL', 'Acronym', 'Study Status',\n",
            "       'Brief Summary', 'Study Results', 'Conditions', 'Interventions',\n",
            "       'Primary Outcome Measures', 'Secondary Outcome Measures',\n",
            "       'Other Outcome Measures', 'Sponsor', 'Collaborators', 'Sex', 'Age',\n",
            "       'Phases', 'Enrollment', 'Funder Type', 'Study Type', 'Study Design',\n",
            "       'Other IDs', 'Start Date', 'Primary Completion Date', 'Completion Date',\n",
            "       'First Posted', 'Results First Posted', 'Last Update Posted',\n",
            "       'Locations', 'Study Documents'],\n",
            "      dtype='object')\n",
            "Index(['NCT Number', 'Study Title', 'Study URL', 'Acronym', 'Study Status',\n",
            "       'Brief Summary', 'Study Results', 'Conditions', 'Interventions',\n",
            "       'Primary Outcome Measures', 'Secondary Outcome Measures',\n",
            "       'Other Outcome Measures', 'Sponsor', 'Collaborators', 'Sex', 'Age',\n",
            "       'Phases', 'Enrollment', 'Funder Type', 'Study Type', 'Study Design',\n",
            "       'Other IDs', 'Start Date', 'Primary Completion Date', 'Completion Date',\n",
            "       'First Posted', 'Results First Posted', 'Last Update Posted',\n",
            "       'Locations', 'Study Documents'],\n",
            "      dtype='object')\n",
            "Index(['NCT Number', 'Study Title', 'Study URL', 'Acronym', 'Study Status',\n",
            "       'Brief Summary', 'Study Results', 'Conditions', 'Interventions',\n",
            "       'Primary Outcome Measures', 'Secondary Outcome Measures',\n",
            "       'Other Outcome Measures', 'Sponsor', 'Collaborators', 'Sex', 'Age',\n",
            "       'Phases', 'Enrollment', 'Funder Type', 'Study Type', 'Study Design',\n",
            "       'Other IDs', 'Start Date', 'Primary Completion Date', 'Completion Date',\n",
            "       'First Posted', 'Results First Posted', 'Last Update Posted',\n",
            "       'Locations', 'Study Documents'],\n",
            "      dtype='object')\n",
            "Index(['NCT Number', 'Study Title', 'Study URL', 'Acronym', 'Study Status',\n",
            "       'Brief Summary', 'Study Results', 'Conditions', 'Interventions',\n",
            "       'Primary Outcome Measures', 'Secondary Outcome Measures',\n",
            "       'Other Outcome Measures', 'Sponsor', 'Collaborators', 'Sex', 'Age',\n",
            "       'Phases', 'Enrollment', 'Funder Type', 'Study Type', 'Study Design',\n",
            "       'Other IDs', 'Start Date', 'Primary Completion Date', 'Completion Date',\n",
            "       'First Posted', 'Results First Posted', 'Last Update Posted',\n",
            "       'Locations', 'Study Documents'],\n",
            "      dtype='object')\n",
            "Index(['NCT Number', 'Study Title', 'Study URL', 'Acronym', 'Study Status',\n",
            "       'Brief Summary', 'Study Results', 'Conditions', 'Interventions',\n",
            "       'Primary Outcome Measures', 'Secondary Outcome Measures',\n",
            "       'Other Outcome Measures', 'Sponsor', 'Collaborators', 'Sex', 'Age',\n",
            "       'Phases', 'Enrollment', 'Funder Type', 'Study Type', 'Study Design',\n",
            "       'Other IDs', 'Start Date', 'Primary Completion Date', 'Completion Date',\n",
            "       'First Posted', 'Results First Posted', 'Last Update Posted',\n",
            "       'Locations', 'Study Documents'],\n",
            "      dtype='object')\n",
            "Index(['NCT Number', 'Study Title', 'Study URL', 'Acronym', 'Study Status',\n",
            "       'Brief Summary', 'Study Results', 'Conditions', 'Interventions',\n",
            "       'Primary Outcome Measures', 'Secondary Outcome Measures',\n",
            "       'Other Outcome Measures', 'Sponsor', 'Collaborators', 'Sex', 'Age',\n",
            "       'Phases', 'Enrollment', 'Funder Type', 'Study Type', 'Study Design',\n",
            "       'Other IDs', 'Start Date', 'Primary Completion Date', 'Completion Date',\n",
            "       'First Posted', 'Results First Posted', 'Last Update Posted',\n",
            "       'Locations', 'Study Documents'],\n",
            "      dtype='object')\n",
            "Index(['NCT Number', 'Study Title', 'Study URL', 'Acronym', 'Study Status',\n",
            "       'Brief Summary', 'Study Results', 'Conditions', 'Interventions',\n",
            "       'Primary Outcome Measures', 'Secondary Outcome Measures',\n",
            "       'Other Outcome Measures', 'Sponsor', 'Collaborators', 'Sex', 'Age',\n",
            "       'Phases', 'Enrollment', 'Funder Type', 'Study Type', 'Study Design',\n",
            "       'Other IDs', 'Start Date', 'Primary Completion Date', 'Completion Date',\n",
            "       'First Posted', 'Results First Posted', 'Last Update Posted',\n",
            "       'Locations', 'Study Documents'],\n",
            "      dtype='object')\n",
            "Index(['NCT Number', 'Study Title', 'Study URL', 'Acronym', 'Study Status',\n",
            "       'Brief Summary', 'Study Results', 'Conditions', 'Interventions',\n",
            "       'Primary Outcome Measures', 'Secondary Outcome Measures',\n",
            "       'Other Outcome Measures', 'Sponsor', 'Collaborators', 'Sex', 'Age',\n",
            "       'Phases', 'Enrollment', 'Funder Type', 'Study Type', 'Study Design',\n",
            "       'Other IDs', 'Start Date', 'Primary Completion Date', 'Completion Date',\n",
            "       'First Posted', 'Results First Posted', 'Last Update Posted',\n",
            "       'Locations', 'Study Documents'],\n",
            "      dtype='object')\n",
            "Index(['NCT Number', 'Study Title', 'Study URL', 'Acronym', 'Study Status',\n",
            "       'Brief Summary', 'Study Results', 'Conditions', 'Interventions',\n",
            "       'Primary Outcome Measures', 'Secondary Outcome Measures',\n",
            "       'Other Outcome Measures', 'Sponsor', 'Collaborators', 'Sex', 'Age',\n",
            "       'Phases', 'Enrollment', 'Funder Type', 'Study Type', 'Study Design',\n",
            "       'Other IDs', 'Start Date', 'Primary Completion Date', 'Completion Date',\n",
            "       'First Posted', 'Results First Posted', 'Last Update Posted',\n",
            "       'Locations', 'Study Documents'],\n",
            "      dtype='object')\n",
            "Index(['NCT Number', 'Study Title', 'Study URL', 'Acronym', 'Study Status',\n",
            "       'Brief Summary', 'Study Results', 'Conditions', 'Interventions',\n",
            "       'Primary Outcome Measures', 'Secondary Outcome Measures',\n",
            "       'Other Outcome Measures', 'Sponsor', 'Collaborators', 'Sex', 'Age',\n",
            "       'Phases', 'Enrollment', 'Funder Type', 'Study Type', 'Study Design',\n",
            "       'Other IDs', 'Start Date', 'Primary Completion Date', 'Completion Date',\n",
            "       'First Posted', 'Results First Posted', 'Last Update Posted',\n",
            "       'Locations', 'Study Documents'],\n",
            "      dtype='object')\n",
            "Index(['NCT Number', 'Study Title', 'Study URL', 'Acronym', 'Study Status',\n",
            "       'Brief Summary', 'Study Results', 'Conditions', 'Interventions',\n",
            "       'Primary Outcome Measures', 'Secondary Outcome Measures',\n",
            "       'Other Outcome Measures', 'Sponsor', 'Collaborators', 'Sex', 'Age',\n",
            "       'Phases', 'Enrollment', 'Funder Type', 'Study Type', 'Study Design',\n",
            "       'Other IDs', 'Start Date', 'Primary Completion Date', 'Completion Date',\n",
            "       'First Posted', 'Results First Posted', 'Last Update Posted',\n",
            "       'Locations', 'Study Documents'],\n",
            "      dtype='object')\n",
            "Index(['NCT Number', 'Study Title', 'Study URL', 'Acronym', 'Study Status',\n",
            "       'Brief Summary', 'Study Results', 'Conditions', 'Interventions',\n",
            "       'Primary Outcome Measures', 'Secondary Outcome Measures',\n",
            "       'Other Outcome Measures', 'Sponsor', 'Collaborators', 'Sex', 'Age',\n",
            "       'Phases', 'Enrollment', 'Funder Type', 'Study Type', 'Study Design',\n",
            "       'Other IDs', 'Start Date', 'Primary Completion Date', 'Completion Date',\n",
            "       'First Posted', 'Results First Posted', 'Last Update Posted',\n",
            "       'Locations', 'Study Documents'],\n",
            "      dtype='object')\n",
            "Index(['NCT Number', 'Study Title', 'Study URL', 'Acronym', 'Study Status',\n",
            "       'Brief Summary', 'Study Results', 'Conditions', 'Interventions',\n",
            "       'Primary Outcome Measures', 'Secondary Outcome Measures',\n",
            "       'Other Outcome Measures', 'Sponsor', 'Collaborators', 'Sex', 'Age',\n",
            "       'Phases', 'Enrollment', 'Funder Type', 'Study Type', 'Study Design',\n",
            "       'Other IDs', 'Start Date', 'Primary Completion Date', 'Completion Date',\n",
            "       'First Posted', 'Results First Posted', 'Last Update Posted',\n",
            "       'Locations', 'Study Documents'],\n",
            "      dtype='object')\n",
            "Index(['NCT Number', 'Study Title', 'Study URL', 'Acronym', 'Study Status',\n",
            "       'Brief Summary', 'Study Results', 'Conditions', 'Interventions',\n",
            "       'Primary Outcome Measures', 'Secondary Outcome Measures',\n",
            "       'Other Outcome Measures', 'Sponsor', 'Collaborators', 'Sex', 'Age',\n",
            "       'Phases', 'Enrollment', 'Funder Type', 'Study Type', 'Study Design',\n",
            "       'Other IDs', 'Start Date', 'Primary Completion Date', 'Completion Date',\n",
            "       'First Posted', 'Results First Posted', 'Last Update Posted',\n",
            "       'Locations', 'Study Documents'],\n",
            "      dtype='object')\n",
            "Index(['NCT Number', 'Study Title', 'Study URL', 'Acronym', 'Study Status',\n",
            "       'Brief Summary', 'Study Results', 'Conditions', 'Interventions',\n",
            "       'Primary Outcome Measures', 'Secondary Outcome Measures',\n",
            "       'Other Outcome Measures', 'Sponsor', 'Collaborators', 'Sex', 'Age',\n",
            "       'Phases', 'Enrollment', 'Funder Type', 'Study Type', 'Study Design',\n",
            "       'Other IDs', 'Start Date', 'Primary Completion Date', 'Completion Date',\n",
            "       'First Posted', 'Results First Posted', 'Last Update Posted',\n",
            "       'Locations', 'Study Documents'],\n",
            "      dtype='object')\n",
            "Index(['NCT Number', 'Study Title', 'Study URL', 'Acronym', 'Study Status',\n",
            "       'Brief Summary', 'Study Results', 'Conditions', 'Interventions',\n",
            "       'Primary Outcome Measures', 'Secondary Outcome Measures',\n",
            "       'Other Outcome Measures', 'Sponsor', 'Collaborators', 'Sex', 'Age',\n",
            "       'Phases', 'Enrollment', 'Funder Type', 'Study Type', 'Study Design',\n",
            "       'Other IDs', 'Start Date', 'Primary Completion Date', 'Completion Date',\n",
            "       'First Posted', 'Results First Posted', 'Last Update Posted',\n",
            "       'Locations', 'Study Documents'],\n",
            "      dtype='object')\n",
            "Index(['NCT Number', 'Study Title', 'Study URL', 'Acronym', 'Study Status',\n",
            "       'Brief Summary', 'Study Results', 'Conditions', 'Interventions',\n",
            "       'Primary Outcome Measures', 'Secondary Outcome Measures',\n",
            "       'Other Outcome Measures', 'Sponsor', 'Collaborators', 'Sex', 'Age',\n",
            "       'Phases', 'Enrollment', 'Funder Type', 'Study Type', 'Study Design',\n",
            "       'Other IDs', 'Start Date', 'Primary Completion Date', 'Completion Date',\n",
            "       'First Posted', 'Results First Posted', 'Last Update Posted',\n",
            "       'Locations', 'Study Documents'],\n",
            "      dtype='object')\n",
            "Index(['NCT Number', 'Study Title', 'Study URL', 'Acronym', 'Study Status',\n",
            "       'Brief Summary', 'Study Results', 'Conditions', 'Interventions',\n",
            "       'Primary Outcome Measures', 'Secondary Outcome Measures',\n",
            "       'Other Outcome Measures', 'Sponsor', 'Collaborators', 'Sex', 'Age',\n",
            "       'Phases', 'Enrollment', 'Funder Type', 'Study Type', 'Study Design',\n",
            "       'Other IDs', 'Start Date', 'Primary Completion Date', 'Completion Date',\n",
            "       'First Posted', 'Results First Posted', 'Last Update Posted',\n",
            "       'Locations', 'Study Documents'],\n",
            "      dtype='object')\n",
            "Index(['NCT Number', 'Study Title', 'Study URL', 'Acronym', 'Study Status',\n",
            "       'Brief Summary', 'Study Results', 'Conditions', 'Interventions',\n",
            "       'Primary Outcome Measures', 'Secondary Outcome Measures',\n",
            "       'Other Outcome Measures', 'Sponsor', 'Collaborators', 'Sex', 'Age',\n",
            "       'Phases', 'Enrollment', 'Funder Type', 'Study Type', 'Study Design',\n",
            "       'Other IDs', 'Start Date', 'Primary Completion Date', 'Completion Date',\n",
            "       'First Posted', 'Results First Posted', 'Last Update Posted',\n",
            "       'Locations', 'Study Documents'],\n",
            "      dtype='object')\n",
            "Index(['NCT Number', 'Study Title', 'Study URL', 'Acronym', 'Study Status',\n",
            "       'Brief Summary', 'Study Results', 'Conditions', 'Interventions',\n",
            "       'Primary Outcome Measures', 'Secondary Outcome Measures',\n",
            "       'Other Outcome Measures', 'Sponsor', 'Collaborators', 'Sex', 'Age',\n",
            "       'Phases', 'Enrollment', 'Funder Type', 'Study Type', 'Study Design',\n",
            "       'Other IDs', 'Start Date', 'Primary Completion Date', 'Completion Date',\n",
            "       'First Posted', 'Results First Posted', 'Last Update Posted',\n",
            "       'Locations', 'Study Documents'],\n",
            "      dtype='object')\n",
            "Index(['NCT Number', 'Study Title', 'Study URL', 'Acronym', 'Study Status',\n",
            "       'Brief Summary', 'Study Results', 'Conditions', 'Interventions',\n",
            "       'Primary Outcome Measures', 'Secondary Outcome Measures',\n",
            "       'Other Outcome Measures', 'Sponsor', 'Collaborators', 'Sex', 'Age',\n",
            "       'Phases', 'Enrollment', 'Funder Type', 'Study Type', 'Study Design',\n",
            "       'Other IDs', 'Start Date', 'Primary Completion Date', 'Completion Date',\n",
            "       'First Posted', 'Results First Posted', 'Last Update Posted',\n",
            "       'Locations', 'Study Documents'],\n",
            "      dtype='object')\n",
            "Index(['NCT Number', 'Study Title', 'Study URL', 'Acronym', 'Study Status',\n",
            "       'Brief Summary', 'Study Results', 'Conditions', 'Interventions',\n",
            "       'Primary Outcome Measures', 'Secondary Outcome Measures',\n",
            "       'Other Outcome Measures', 'Sponsor', 'Collaborators', 'Sex', 'Age',\n",
            "       'Phases', 'Enrollment', 'Funder Type', 'Study Type', 'Study Design',\n",
            "       'Other IDs', 'Start Date', 'Primary Completion Date', 'Completion Date',\n",
            "       'First Posted', 'Results First Posted', 'Last Update Posted',\n",
            "       'Locations', 'Study Documents'],\n",
            "      dtype='object')\n",
            "Index(['NCT Number', 'Study Title', 'Study URL', 'Acronym', 'Study Status',\n",
            "       'Brief Summary', 'Study Results', 'Conditions', 'Interventions',\n",
            "       'Primary Outcome Measures', 'Secondary Outcome Measures',\n",
            "       'Other Outcome Measures', 'Sponsor', 'Collaborators', 'Sex', 'Age',\n",
            "       'Phases', 'Enrollment', 'Funder Type', 'Study Type', 'Study Design',\n",
            "       'Other IDs', 'Start Date', 'Primary Completion Date', 'Completion Date',\n",
            "       'First Posted', 'Results First Posted', 'Last Update Posted',\n",
            "       'Locations', 'Study Documents'],\n",
            "      dtype='object')\n",
            "Index(['NCT Number', 'Study Title', 'Study URL', 'Acronym', 'Study Status',\n",
            "       'Brief Summary', 'Study Results', 'Conditions', 'Interventions',\n",
            "       'Primary Outcome Measures', 'Secondary Outcome Measures',\n",
            "       'Other Outcome Measures', 'Sponsor', 'Collaborators', 'Sex', 'Age',\n",
            "       'Phases', 'Enrollment', 'Funder Type', 'Study Type', 'Study Design',\n",
            "       'Other IDs', 'Start Date', 'Primary Completion Date', 'Completion Date',\n",
            "       'First Posted', 'Results First Posted', 'Last Update Posted',\n",
            "       'Locations', 'Study Documents'],\n",
            "      dtype='object')\n",
            "Index(['NCT Number', 'Study Title', 'Study URL', 'Acronym', 'Study Status',\n",
            "       'Brief Summary', 'Study Results', 'Conditions', 'Interventions',\n",
            "       'Primary Outcome Measures', 'Secondary Outcome Measures',\n",
            "       'Other Outcome Measures', 'Sponsor', 'Collaborators', 'Sex', 'Age',\n",
            "       'Phases', 'Enrollment', 'Funder Type', 'Study Type', 'Study Design',\n",
            "       'Other IDs', 'Start Date', 'Primary Completion Date', 'Completion Date',\n",
            "       'First Posted', 'Results First Posted', 'Last Update Posted',\n",
            "       'Locations', 'Study Documents'],\n",
            "      dtype='object')\n",
            "Index(['NCT Number', 'Study Title', 'Study URL', 'Acronym', 'Study Status',\n",
            "       'Brief Summary', 'Study Results', 'Conditions', 'Interventions',\n",
            "       'Primary Outcome Measures', 'Secondary Outcome Measures',\n",
            "       'Other Outcome Measures', 'Sponsor', 'Collaborators', 'Sex', 'Age',\n",
            "       'Phases', 'Enrollment', 'Funder Type', 'Study Type', 'Study Design',\n",
            "       'Other IDs', 'Start Date', 'Primary Completion Date', 'Completion Date',\n",
            "       'First Posted', 'Results First Posted', 'Last Update Posted',\n",
            "       'Locations', 'Study Documents'],\n",
            "      dtype='object')\n",
            "Index(['NCT Number', 'Study Title', 'Study URL', 'Acronym', 'Study Status',\n",
            "       'Brief Summary', 'Study Results', 'Conditions', 'Interventions',\n",
            "       'Primary Outcome Measures', 'Secondary Outcome Measures',\n",
            "       'Other Outcome Measures', 'Sponsor', 'Collaborators', 'Sex', 'Age',\n",
            "       'Phases', 'Enrollment', 'Funder Type', 'Study Type', 'Study Design',\n",
            "       'Other IDs', 'Start Date', 'Primary Completion Date', 'Completion Date',\n",
            "       'First Posted', 'Results First Posted', 'Last Update Posted',\n",
            "       'Locations', 'Study Documents'],\n",
            "      dtype='object')\n",
            "Index(['NCT Number', 'Study Title', 'Study URL', 'Acronym', 'Study Status',\n",
            "       'Brief Summary', 'Study Results', 'Conditions', 'Interventions',\n",
            "       'Primary Outcome Measures', 'Secondary Outcome Measures',\n",
            "       'Other Outcome Measures', 'Sponsor', 'Collaborators', 'Sex', 'Age',\n",
            "       'Phases', 'Enrollment', 'Funder Type', 'Study Type', 'Study Design',\n",
            "       'Other IDs', 'Start Date', 'Primary Completion Date', 'Completion Date',\n",
            "       'First Posted', 'Results First Posted', 'Last Update Posted',\n",
            "       'Locations', 'Study Documents'],\n",
            "      dtype='object')\n"
          ]
        }
      ]
    },
    {
      "cell_type": "code",
      "source": [
        "relevant_dataframes = [df[relevant_columns] for df in cleaned_dataframes]"
      ],
      "metadata": {
        "id": "9ixH0vnf3y0L"
      },
      "execution_count": null,
      "outputs": []
    },
    {
      "cell_type": "code",
      "source": [
        "print(relevant_columns)"
      ],
      "metadata": {
        "colab": {
          "base_uri": "https://localhost:8080/"
        },
        "id": "q8ybWIJl4CC6",
        "outputId": "416bd235-9d97-492f-a3b7-477bb115d746"
      },
      "execution_count": null,
      "outputs": [
        {
          "output_type": "stream",
          "name": "stdout",
          "text": [
            "['NCT Number', 'Conditions', 'Interventions', 'Primary Outcome Measures', 'Sex', 'Age']\n"
          ]
        }
      ]
    },
    {
      "cell_type": "code",
      "source": [
        "# Define the bin edges and labels for the age categories\n",
        "bin_edges = [0, 18, 65, 100]  # For example, creating categories for children, adults, and older adults\n",
        "bin_labels = ['Child', 'Adult', 'Older Adult']\n",
        "\n",
        "# Create a new column 'Age Category' based on the age values\n",
        "df['Age Category'] = pd.cut(df['Age'], bins=bin_edges, labels=bin_labels, right=False)\n",
        "\n",
        "# Display the updated DataFrame with the age categories\n",
        "print(df)"
      ],
      "metadata": {
        "colab": {
          "base_uri": "https://localhost:8080/"
        },
        "id": "9vsAK3NhwtSa",
        "outputId": "825c0104-2dd5-4f48-b3e5-ee766d13b005"
      },
      "execution_count": null,
      "outputs": [
        {
          "output_type": "stream",
          "name": "stdout",
          "text": [
            "Empty DataFrame\n",
            "Columns: [NCT Number, Study Title, Study URL, Acronym, Study Status, Brief Summary, Study Results, Conditions, Interventions, Primary Outcome Measures, Secondary Outcome Measures, Other Outcome Measures, Sponsor, Collaborators, Sex, Age, Phases, Enrollment, Funder Type, Study Type, Study Design, Other IDs, Start Date, Primary Completion Date, Completion Date, First Posted, Results First Posted, Last Update Posted, Locations, Study Documents, Age Category]\n",
            "Index: []\n",
            "\n",
            "[0 rows x 31 columns]\n"
          ]
        }
      ]
    },
    {
      "cell_type": "markdown",
      "source": [
        "#Define the exercise recommendations based on the guidelines from CDC, WHO, and American College of Sports Medicine. For example, you can create categories of exercise intensity, duration, and type for different conditions."
      ],
      "metadata": {
        "id": "mAZUtwuTz1Ly"
      }
    },
    {
      "cell_type": "code",
      "source": [
        "def generate_exercise_recommendations(age_category, sex, conditions):\n",
        "    recommendations = {}\n",
        "\n",
        "    # Define exercise recommendations based on guidelines for different conditions, age categories, and sex\n",
        "    if 'obesity' in conditions:\n",
        "        if age_category == 'Child':\n",
        "            recommendations['obesity'] = \"At least 60 minutes (1 hour) or more of moderate-to-vigorous intensity physical activity daily. This should include vigorous activity and activities that strengthen muscles and bones on at least 3 days a week.\"\n",
        "        elif age_category == 'Adult':\n",
        "            recommendations['obesity'] = \"At least 150 minutes per week of moderate-intensity aerobic activity, or 75 minutes per week of vigorous aerobic activity, or an equivalent combination. Additionally, muscle-strengthening activities on 2 or more days a week.\"\n",
        "        elif age_category == 'Older Adult':\n",
        "            recommendations['obesity'] = \"At least 150 minutes per week of moderate-intensity aerobic activity, or 75 minutes per week of vigorous aerobic activity, or an equivalent combination. Muscle-strengthening activities involving all major muscle groups on 2 or more days a week.\"\n",
        "\n",
        "    # Add more condition-specific recommendations based on the guidelines for different age categories and sex\n",
        "\n",
        "    return recommendations\n",
        "\n",
        "# Example usage\n",
        "age_category = 'Adult'\n",
        "sex = 'male'\n",
        "conditions = ['obesity', 'diabetes']\n",
        "\n",
        "# Generate exercise recommendations based on the provided information\n",
        "exercise_recommendations = generate_exercise_recommendations(age_category, sex, conditions)\n",
        "print(exercise_recommendations)"
      ],
      "metadata": {
        "colab": {
          "base_uri": "https://localhost:8080/"
        },
        "id": "whisqviVxkrM",
        "outputId": "fc762ae0-2c83-41d4-bded-2cc617c06b6a"
      },
      "execution_count": null,
      "outputs": [
        {
          "output_type": "stream",
          "name": "stdout",
          "text": [
            "{'obesity': 'At least 150 minutes per week of moderate-intensity aerobic activity, or 75 minutes per week of vigorous aerobic activity, or an equivalent combination. Additionally, muscle-strengthening activities on 2 or more days a week.'}\n"
          ]
        }
      ]
    },
    {
      "cell_type": "markdown",
      "source": [
        "#Develop a method to match user profiles with the guideline-based exercise recommendations. This can be based on factors such as age, sex, and specific conditions extracted from the datasets."
      ],
      "metadata": {
        "id": "BCLx7GMVz4xJ"
      }
    },
    {
      "cell_type": "code",
      "source": [
        "def match_user_with_recommendations(user_profile, exercise_recommendations):\n",
        "    # user_profile is a dictionary containing the user's age, sex, and specific conditions\n",
        "    # exercise_recommendations is a dictionary containing the guideline-based exercise recommendations\n",
        "\n",
        "    matched_recommendations = {}\n",
        "\n",
        "    # Match the user's profile with the guideline-based exercise recommendations\n",
        "    for condition, recommendation in exercise_recommendations.items():\n",
        "        if condition in user_profile['conditions'] and user_profile['age_category'] == recommendation['age_category'] and user_profile['sex'] == recommendation['sex']:\n",
        "            matched_recommendations[condition] = recommendation\n",
        "\n",
        "    return matched_recommendations\n",
        "\n",
        "# Example user profile\n",
        "user_profile = {\n",
        "    'age_category': 'Adult',\n",
        "    'sex': 'male',\n",
        "    'conditions': ['obesity', 'diabetes']\n",
        "}\n",
        "\n",
        "# Example guideline-based exercise recommendations\n",
        "exercise_recommendations = {\n",
        "    'obesity': {\n",
        "        'age_category': 'Adult',\n",
        "        'sex': 'male',\n",
        "        'recommendation': \"At least 150 minutes per week of moderate-intensity aerobic activity, or 75 minutes per week of vigorous aerobic activity, or an equivalent combination. Additionally, muscle-strengthening activities on 2 or more days a week.\"\n",
        "    },\n",
        "    # Add more condition-specific recommendations based on the guidelines\n",
        "}\n",
        "\n",
        "# Match the user's profile with the guideline-based exercise recommendations\n",
        "matched_recommendations = match_user_with_recommendations(user_profile, exercise_recommendations)\n",
        "print(matched_recommendations)"
      ],
      "metadata": {
        "colab": {
          "base_uri": "https://localhost:8080/"
        },
        "id": "ccyWjWY9y1Fl",
        "outputId": "4dfb791f-43ed-4d34-b48a-ba6ca5a456a2"
      },
      "execution_count": null,
      "outputs": [
        {
          "output_type": "stream",
          "name": "stdout",
          "text": [
            "{'obesity': {'age_category': 'Adult', 'sex': 'male', 'recommendation': 'At least 150 minutes per week of moderate-intensity aerobic activity, or 75 minutes per week of vigorous aerobic activity, or an equivalent combination. Additionally, muscle-strengthening activities on 2 or more days a week.'}}\n"
          ]
        }
      ]
    },
    {
      "cell_type": "markdown",
      "source": [
        "#Utilize a recommendation algorithm (e.g., content-based filtering) to provide personalized exercise recommendations to users based on their profiles and the guideline-based recommendations."
      ],
      "metadata": {
        "id": "XvdX3sDUz-Io"
      }
    },
    {
      "cell_type": "markdown",
      "source": [
        "#Evaluate the performance of the recommender system using appropriate metrics and validate its effectiveness in providing relevant exercise recommendations."
      ],
      "metadata": {
        "id": "5ZAeD-BF0EU8"
      }
    },
    {
      "cell_type": "code",
      "source": [
        "class RecommenderEvaluator:\n",
        "    def __init__(self, actual_recommendations, predicted_recommendations):\n",
        "        self.actual_recommendations = actual_recommendations\n",
        "        self.predicted_recommendations = predicted_recommendations\n",
        "\n",
        "    def precision(self):\n",
        "        # Calculate precision\n",
        "        relevant_and_recommended = len(set(self.actual_recommendations) & set(self.predicted_recommendations))\n",
        "        recommended_count = len(self.predicted_recommendations)\n",
        "        return relevant_and_recommended / recommended_count if recommended_count > 0 else 0\n",
        "\n",
        "    def recall(self):\n",
        "        # Calculate recall\n",
        "        relevant_and_recommended = len(set(self.actual_recommendations) & set(self.predicted_recommendations))\n",
        "        actual_count = len(self.actual_recommendations)\n",
        "        return relevant_and_recommended / actual_count if actual_count > 0 else 0\n",
        "\n",
        "    def f1_score(self):\n",
        "        # Calculate F1-score\n",
        "        precision = self.precision()\n",
        "        recall = self.recall()\n",
        "        return (2 * precision * recall) / (precision + recall) if (precision + recall) > 0 else 0\n",
        "\n",
        "# Example actual and predicted exercise recommendations\n",
        "actual_recommendations = ['cycling', 'swimming', 'yoga']\n",
        "predicted_recommendations = ['cycling', 'yoga', 'aerobics']\n",
        "\n",
        "# Initialize the RecommenderEvaluator with the actual and predicted exercise recommendations\n",
        "evaluator = RecommenderEvaluator(actual_recommendations, predicted_recommendations)\n",
        "\n",
        "# Evaluate the performance of the recommender system\n",
        "precision = evaluator.precision()\n",
        "recall = evaluator.recall()\n",
        "f1_score = evaluator.f1_score()\n",
        "\n",
        "print(\"Precision:\", precision)\n",
        "print(\"Recall:\", recall)\n",
        "print(\"F1-score:\", f1_score)"
      ],
      "metadata": {
        "colab": {
          "base_uri": "https://localhost:8080/"
        },
        "id": "W3EcaIwFzSII",
        "outputId": "1cf8246f-ebd3-4282-c2f0-92571f506ffc"
      },
      "execution_count": null,
      "outputs": [
        {
          "output_type": "stream",
          "name": "stdout",
          "text": [
            "Precision: 0.6666666666666666\n",
            "Recall: 0.6666666666666666\n",
            "F1-score: 0.6666666666666666\n"
          ]
        }
      ]
    },
    {
      "cell_type": "code",
      "source": [
        "!pip install scikit-surprise"
      ],
      "metadata": {
        "colab": {
          "base_uri": "https://localhost:8080/"
        },
        "id": "i8AXr-el3IZ2",
        "outputId": "6130df18-924c-4797-92ff-34aeacc1f294"
      },
      "execution_count": null,
      "outputs": [
        {
          "output_type": "stream",
          "name": "stdout",
          "text": [
            "Collecting scikit-surprise\n",
            "  Downloading scikit-surprise-1.1.3.tar.gz (771 kB)\n",
            "\u001b[2K     \u001b[90m━━━━━━━━━━━━━━━━━━━━━━━━━━━━━━━━━━━━━━━━\u001b[0m \u001b[32m772.0/772.0 kB\u001b[0m \u001b[31m7.8 MB/s\u001b[0m eta \u001b[36m0:00:00\u001b[0m\n",
            "\u001b[?25h  Preparing metadata (setup.py) ... \u001b[?25l\u001b[?25hdone\n",
            "Requirement already satisfied: joblib>=1.0.0 in /usr/local/lib/python3.10/dist-packages (from scikit-surprise) (1.3.2)\n",
            "Requirement already satisfied: numpy>=1.17.3 in /usr/local/lib/python3.10/dist-packages (from scikit-surprise) (1.25.2)\n",
            "Requirement already satisfied: scipy>=1.3.2 in /usr/local/lib/python3.10/dist-packages (from scikit-surprise) (1.11.4)\n",
            "Building wheels for collected packages: scikit-surprise\n",
            "  Building wheel for scikit-surprise (setup.py) ... \u001b[?25l\u001b[?25hdone\n",
            "  Created wheel for scikit-surprise: filename=scikit_surprise-1.1.3-cp310-cp310-linux_x86_64.whl size=3163000 sha256=953dd132312171906899c13ecd8ec8b08eceb61c8caee9559d89d2ce32a961e6\n",
            "  Stored in directory: /root/.cache/pip/wheels/a5/ca/a8/4e28def53797fdc4363ca4af740db15a9c2f1595ebc51fb445\n",
            "Successfully built scikit-surprise\n",
            "Installing collected packages: scikit-surprise\n",
            "Successfully installed scikit-surprise-1.1.3\n"
          ]
        }
      ]
    },
    {
      "cell_type": "code",
      "source": [
        "!pip install merlin"
      ],
      "metadata": {
        "colab": {
          "base_uri": "https://localhost:8080/"
        },
        "id": "m_BJuFgO4PPt",
        "outputId": "3fd66bdd-e340-48c7-c585-a2576ac2ece7"
      },
      "execution_count": null,
      "outputs": [
        {
          "output_type": "stream",
          "name": "stdout",
          "text": [
            "Collecting merlin\n",
            "  Downloading merlin-1.12.0-py3-none-any.whl (328 kB)\n",
            "\u001b[2K     \u001b[90m━━━━━━━━━━━━━━━━━━━━━━━━━━━━━━━━━━━━━━━━\u001b[0m \u001b[32m328.6/328.6 kB\u001b[0m \u001b[31m5.6 MB/s\u001b[0m eta \u001b[36m0:00:00\u001b[0m\n",
            "\u001b[?25hCollecting cached-property (from merlin)\n",
            "  Downloading cached_property-1.5.2-py2.py3-none-any.whl (7.6 kB)\n",
            "Collecting celery[redis,sqlalchemy]>=5.0.3 (from merlin)\n",
            "  Downloading celery-5.3.6-py3-none-any.whl (422 kB)\n",
            "\u001b[2K     \u001b[90m━━━━━━━━━━━━━━━━━━━━━━━━━━━━━━━━━━━━━━━━\u001b[0m \u001b[32m422.0/422.0 kB\u001b[0m \u001b[31m11.0 MB/s\u001b[0m eta \u001b[36m0:00:00\u001b[0m\n",
            "\u001b[?25hCollecting coloredlogs (from merlin)\n",
            "  Downloading coloredlogs-15.0.1-py2.py3-none-any.whl (46 kB)\n",
            "\u001b[2K     \u001b[90m━━━━━━━━━━━━━━━━━━━━━━━━━━━━━━━━━━━━━━━━\u001b[0m \u001b[32m46.0/46.0 kB\u001b[0m \u001b[31m6.2 MB/s\u001b[0m eta \u001b[36m0:00:00\u001b[0m\n",
            "\u001b[?25hRequirement already satisfied: cryptography in /usr/local/lib/python3.10/dist-packages (from merlin) (42.0.3)\n",
            "Collecting maestrowf>=1.1.9dev1 (from merlin)\n",
            "  Downloading maestrowf-1.1.10-py3-none-any.whl (139 kB)\n",
            "\u001b[2K     \u001b[90m━━━━━━━━━━━━━━━━━━━━━━━━━━━━━━━━━━━━━━━━\u001b[0m \u001b[32m139.7/139.7 kB\u001b[0m \u001b[31m13.3 MB/s\u001b[0m eta \u001b[36m0:00:00\u001b[0m\n",
            "\u001b[?25hRequirement already satisfied: numpy in /usr/local/lib/python3.10/dist-packages (from merlin) (1.25.2)\n",
            "Collecting parse (from merlin)\n",
            "  Downloading parse-1.20.1-py2.py3-none-any.whl (20 kB)\n",
            "Requirement already satisfied: psutil>=5.1.0 in /usr/local/lib/python3.10/dist-packages (from merlin) (5.9.5)\n",
            "Requirement already satisfied: pyyaml>=5.1.2 in /usr/local/lib/python3.10/dist-packages (from merlin) (6.0.1)\n",
            "Requirement already satisfied: tabulate in /usr/local/lib/python3.10/dist-packages (from merlin) (0.9.0)\n",
            "Collecting redis>=4.3.4 (from merlin)\n",
            "  Downloading redis-5.0.1-py3-none-any.whl (250 kB)\n",
            "\u001b[2K     \u001b[90m━━━━━━━━━━━━━━━━━━━━━━━━━━━━━━━━━━━━━━━━\u001b[0m \u001b[32m250.3/250.3 kB\u001b[0m \u001b[31m10.3 MB/s\u001b[0m eta \u001b[36m0:00:00\u001b[0m\n",
            "\u001b[?25hCollecting billiard<5.0,>=4.2.0 (from celery[redis,sqlalchemy]>=5.0.3->merlin)\n",
            "  Downloading billiard-4.2.0-py3-none-any.whl (86 kB)\n",
            "\u001b[2K     \u001b[90m━━━━━━━━━━━━━━━━━━━━━━━━━━━━━━━━━━━━━━━━\u001b[0m \u001b[32m86.7/86.7 kB\u001b[0m \u001b[31m10.2 MB/s\u001b[0m eta \u001b[36m0:00:00\u001b[0m\n",
            "\u001b[?25hCollecting click-didyoumean>=0.3.0 (from celery[redis,sqlalchemy]>=5.0.3->merlin)\n",
            "  Downloading click_didyoumean-0.3.0-py3-none-any.whl (2.7 kB)\n",
            "Requirement already satisfied: click-plugins>=1.1.1 in /usr/local/lib/python3.10/dist-packages (from celery[redis,sqlalchemy]>=5.0.3->merlin) (1.1.1)\n",
            "Collecting click-repl>=0.2.0 (from celery[redis,sqlalchemy]>=5.0.3->merlin)\n",
            "  Downloading click_repl-0.3.0-py3-none-any.whl (10 kB)\n",
            "Requirement already satisfied: click<9.0,>=8.1.2 in /usr/local/lib/python3.10/dist-packages (from celery[redis,sqlalchemy]>=5.0.3->merlin) (8.1.7)\n",
            "Collecting kombu<6.0,>=5.3.4 (from celery[redis,sqlalchemy]>=5.0.3->merlin)\n",
            "  Downloading kombu-5.3.5-py3-none-any.whl (200 kB)\n",
            "\u001b[2K     \u001b[90m━━━━━━━━━━━━━━━━━━━━━━━━━━━━━━━━━━━━━━━━\u001b[0m \u001b[32m200.0/200.0 kB\u001b[0m \u001b[31m12.0 MB/s\u001b[0m eta \u001b[36m0:00:00\u001b[0m\n",
            "\u001b[?25hRequirement already satisfied: python-dateutil>=2.8.2 in /usr/local/lib/python3.10/dist-packages (from celery[redis,sqlalchemy]>=5.0.3->merlin) (2.8.2)\n",
            "Collecting tzdata>=2022.7 (from celery[redis,sqlalchemy]>=5.0.3->merlin)\n",
            "  Downloading tzdata-2024.1-py2.py3-none-any.whl (345 kB)\n",
            "\u001b[2K     \u001b[90m━━━━━━━━━━━━━━━━━━━━━━━━━━━━━━━━━━━━━━━━\u001b[0m \u001b[32m345.4/345.4 kB\u001b[0m \u001b[31m12.2 MB/s\u001b[0m eta \u001b[36m0:00:00\u001b[0m\n",
            "\u001b[?25hCollecting vine<6.0,>=5.1.0 (from celery[redis,sqlalchemy]>=5.0.3->merlin)\n",
            "  Downloading vine-5.1.0-py3-none-any.whl (9.6 kB)\n",
            "Requirement already satisfied: sqlalchemy<2.1,>=1.4.48 in /usr/local/lib/python3.10/dist-packages (from celery[redis,sqlalchemy]>=5.0.3->merlin) (2.0.27)\n",
            "Collecting dill (from maestrowf>=1.1.9dev1->merlin)\n",
            "  Downloading dill-0.3.8-py3-none-any.whl (116 kB)\n",
            "\u001b[2K     \u001b[90m━━━━━━━━━━━━━━━━━━━━━━━━━━━━━━━━━━━━━━━━\u001b[0m \u001b[32m116.3/116.3 kB\u001b[0m \u001b[31m14.6 MB/s\u001b[0m eta \u001b[36m0:00:00\u001b[0m\n",
            "\u001b[?25hRequirement already satisfied: filelock in /usr/local/lib/python3.10/dist-packages (from maestrowf>=1.1.9dev1->merlin) (3.13.1)\n",
            "Requirement already satisfied: jsonschema>=3.2.0 in /usr/local/lib/python3.10/dist-packages (from maestrowf>=1.1.9dev1->merlin) (4.19.2)\n",
            "Requirement already satisfied: packaging>=22.0 in /usr/local/lib/python3.10/dist-packages (from maestrowf>=1.1.9dev1->merlin) (23.2)\n",
            "Requirement already satisfied: rich in /usr/local/lib/python3.10/dist-packages (from maestrowf>=1.1.9dev1->merlin) (13.7.0)\n",
            "Requirement already satisfied: six in /usr/local/lib/python3.10/dist-packages (from maestrowf>=1.1.9dev1->merlin) (1.16.0)\n",
            "Requirement already satisfied: async-timeout>=4.0.2 in /usr/local/lib/python3.10/dist-packages (from redis>=4.3.4->merlin) (4.0.3)\n",
            "Collecting humanfriendly>=9.1 (from coloredlogs->merlin)\n",
            "  Downloading humanfriendly-10.0-py2.py3-none-any.whl (86 kB)\n",
            "\u001b[2K     \u001b[90m━━━━━━━━━━━━━━━━━━━━━━━━━━━━━━━━━━━━━━━━\u001b[0m \u001b[32m86.8/86.8 kB\u001b[0m \u001b[31m11.9 MB/s\u001b[0m eta \u001b[36m0:00:00\u001b[0m\n",
            "\u001b[?25hRequirement already satisfied: cffi>=1.12 in /usr/local/lib/python3.10/dist-packages (from cryptography->merlin) (1.16.0)\n",
            "Requirement already satisfied: pycparser in /usr/local/lib/python3.10/dist-packages (from cffi>=1.12->cryptography->merlin) (2.21)\n",
            "Requirement already satisfied: prompt-toolkit>=3.0.36 in /usr/local/lib/python3.10/dist-packages (from click-repl>=0.2.0->celery[redis,sqlalchemy]>=5.0.3->merlin) (3.0.43)\n",
            "Requirement already satisfied: attrs>=22.2.0 in /usr/local/lib/python3.10/dist-packages (from jsonschema>=3.2.0->maestrowf>=1.1.9dev1->merlin) (23.2.0)\n",
            "Requirement already satisfied: jsonschema-specifications>=2023.03.6 in /usr/local/lib/python3.10/dist-packages (from jsonschema>=3.2.0->maestrowf>=1.1.9dev1->merlin) (2023.12.1)\n",
            "Requirement already satisfied: referencing>=0.28.4 in /usr/local/lib/python3.10/dist-packages (from jsonschema>=3.2.0->maestrowf>=1.1.9dev1->merlin) (0.33.0)\n",
            "Requirement already satisfied: rpds-py>=0.7.1 in /usr/local/lib/python3.10/dist-packages (from jsonschema>=3.2.0->maestrowf>=1.1.9dev1->merlin) (0.18.0)\n",
            "Collecting amqp<6.0.0,>=5.1.1 (from kombu<6.0,>=5.3.4->celery[redis,sqlalchemy]>=5.0.3->merlin)\n",
            "  Downloading amqp-5.2.0-py3-none-any.whl (50 kB)\n",
            "\u001b[2K     \u001b[90m━━━━━━━━━━━━━━━━━━━━━━━━━━━━━━━━━━━━━━━━\u001b[0m \u001b[32m50.9/50.9 kB\u001b[0m \u001b[31m6.8 MB/s\u001b[0m eta \u001b[36m0:00:00\u001b[0m\n",
            "\u001b[?25hRequirement already satisfied: typing-extensions>=4.6.0 in /usr/local/lib/python3.10/dist-packages (from sqlalchemy<2.1,>=1.4.48->celery[redis,sqlalchemy]>=5.0.3->merlin) (4.9.0)\n",
            "Requirement already satisfied: greenlet!=0.4.17 in /usr/local/lib/python3.10/dist-packages (from sqlalchemy<2.1,>=1.4.48->celery[redis,sqlalchemy]>=5.0.3->merlin) (3.0.3)\n",
            "Requirement already satisfied: markdown-it-py>=2.2.0 in /usr/local/lib/python3.10/dist-packages (from rich->maestrowf>=1.1.9dev1->merlin) (3.0.0)\n",
            "Requirement already satisfied: pygments<3.0.0,>=2.13.0 in /usr/local/lib/python3.10/dist-packages (from rich->maestrowf>=1.1.9dev1->merlin) (2.16.1)\n",
            "Requirement already satisfied: mdurl~=0.1 in /usr/local/lib/python3.10/dist-packages (from markdown-it-py>=2.2.0->rich->maestrowf>=1.1.9dev1->merlin) (0.1.2)\n",
            "Requirement already satisfied: wcwidth in /usr/local/lib/python3.10/dist-packages (from prompt-toolkit>=3.0.36->click-repl>=0.2.0->celery[redis,sqlalchemy]>=5.0.3->merlin) (0.2.13)\n",
            "Installing collected packages: parse, cached-property, vine, tzdata, redis, humanfriendly, dill, click-didyoumean, billiard, coloredlogs, click-repl, amqp, kombu, maestrowf, celery, merlin\n",
            "Successfully installed amqp-5.2.0 billiard-4.2.0 cached-property-1.5.2 celery-5.3.6 click-didyoumean-0.3.0 click-repl-0.3.0 coloredlogs-15.0.1 dill-0.3.8 humanfriendly-10.0 kombu-5.3.5 maestrowf-1.1.10 merlin-1.12.0 parse-1.20.1 redis-5.0.1 tzdata-2024.1 vine-5.1.0\n"
          ]
        }
      ]
    },
    {
      "cell_type": "code",
      "source": [
        "class ExerciseRecommender:\n",
        "    def __init__(self, exercise_recommendations):\n",
        "        self.exercise_recommendations = exercise_recommendations\n",
        "\n",
        "    def get_personalized_recommendations(self, user_profile):\n",
        "        personalized_recommendations = {}\n",
        "\n",
        "        # Match the user's profile with the guideline-based exercise recommendations\n",
        "        for condition, recommendation in self.exercise_recommendations.items():\n",
        "            if condition in user_profile['conditions'] and user_profile['age_category'] == recommendation['age_category'] and user_profile['sex'] == recommendation['sex']:\n",
        "                personalized_recommendations[condition] = recommendation['recommendation']\n",
        "\n",
        "        return personalized_recommendations\n",
        "\n",
        "# Example guideline-based exercise recommendations\n",
        "exercise_recommendations = {\n",
        "    'obesity': {\n",
        "        'age_category': 'Adult',\n",
        "        'sex': 'male',\n",
        "        'recommendation': \"At least 150 minutes per week of moderate-intensity aerobic activity, or 75 minutes per week of vigorous aerobic activity, or an equivalent combination. Additionally, muscle-strengthening activities on 2 or more days a week.\"\n",
        "    },\n",
        "    # Add more condition-specific recommendations based on the guidelines\n",
        "}\n",
        "\n",
        "# Example user profile\n",
        "user_profile = {\n",
        "    'age_category': 'Adult',\n",
        "    'sex': 'male',\n",
        "    'conditions': ['obesity', 'diabetes']\n",
        "}\n",
        "\n",
        "# Initialize the ExerciseRecommender with the guideline-based exercise recommendations\n",
        "recommender = ExerciseRecommender(exercise_recommendations)\n",
        "\n",
        "# Get personalized exercise recommendations for the user\n",
        "personalized_exercise_recommendations = recommender.get_personalized_recommendations(user_profile)\n",
        "print(personalized_exercise_recommendations)\n"
      ],
      "metadata": {
        "colab": {
          "base_uri": "https://localhost:8080/"
        },
        "id": "7nlEwhQIB8Ss",
        "outputId": "81db0342-c8ff-4874-99dd-f8218f654ef6"
      },
      "execution_count": null,
      "outputs": [
        {
          "output_type": "stream",
          "name": "stdout",
          "text": [
            "{'obesity': 'At least 150 minutes per week of moderate-intensity aerobic activity, or 75 minutes per week of vigorous aerobic activity, or an equivalent combination. Additionally, muscle-strengthening activities on 2 or more days a week.'}\n"
          ]
        }
      ]
    },
    {
      "cell_type": "code",
      "source": [],
      "metadata": {
        "id": "szLoC59TClo9"
      },
      "execution_count": null,
      "outputs": []
    }
  ]
}